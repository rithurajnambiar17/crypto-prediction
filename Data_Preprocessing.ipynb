{
  "cells": [
    {
      "cell_type": "code",
      "execution_count": 129,
      "metadata": {
        "id": "BGq5prC8-f3U"
      },
      "outputs": [],
      "source": [
        "import numpy as np\n",
        "import pandas as pd\n",
        "import tensorflow as tf\n",
        "from datetime import datetime\n",
        "import matplotlib.pyplot as plt\n",
        "from sklearn.metrics import mean_absolute_error"
      ]
    },
    {
      "cell_type": "markdown",
      "metadata": {
        "id": "MqyLZUlD-rm8"
      },
      "source": [
        "# Bitcoin"
      ]
    },
    {
      "cell_type": "code",
      "execution_count": 98,
      "metadata": {
        "colab": {
          "base_uri": "https://localhost:8080/",
          "height": 235
        },
        "id": "a0bkbH4T-kLk",
        "outputId": "b74e9fe9-76dc-4157-e8b3-c05cf59b41b8"
      },
      "outputs": [
        {
          "output_type": "execute_result",
          "data": {
            "text/plain": [
              "   Unnamed: 0  Unnamed: 0.1   timestamp    Asset  Count       Open     High  \\\n",
              "0           0             0  1514764860  Bitcoin  229.0  13835.194  14013.8   \n",
              "1           1             2  1514764920  Bitcoin  235.0  13835.036  14052.3   \n",
              "2           2             4  1514764980  Bitcoin  528.0  13823.900  14000.4   \n",
              "3           3             6  1514765040  Bitcoin  435.0  13802.512  13999.0   \n",
              "4           4             8  1514765100  Bitcoin  742.0  13766.000  13955.9   \n",
              "\n",
              "        Low      Close      Volume  ...    Target                 time hour  \\\n",
              "0  13666.11  13850.176   31.550062  ... -0.014643  2018-01-01 00:01:00    0   \n",
              "1  13680.00  13828.102   31.046432  ... -0.015037  2018-01-01 00:02:00    0   \n",
              "2  13601.00  13801.314   55.061820  ... -0.010309  2018-01-01 00:03:00    0   \n",
              "3  13576.28  13768.040   38.780529  ... -0.008999  2018-01-01 00:04:00    0   \n",
              "4  13554.44  13724.914  108.501637  ... -0.008079  2018-01-01 00:05:00    0   \n",
              "\n",
              "   dayofweek  quarter  month  year  dayofyear  dayofmonth  weekofyear  \n",
              "0          0        1      1  2018          1           1           1  \n",
              "1          0        1      1  2018          1           1           1  \n",
              "2          0        1      1  2018          1           1           1  \n",
              "3          0        1      1  2018          1           1           1  \n",
              "4          0        1      1  2018          1           1           1  \n",
              "\n",
              "[5 rows x 21 columns]"
            ],
            "text/html": [
              "\n",
              "  <div id=\"df-cd98f34c-aeb2-4058-b517-15f01e600716\">\n",
              "    <div class=\"colab-df-container\">\n",
              "      <div>\n",
              "<style scoped>\n",
              "    .dataframe tbody tr th:only-of-type {\n",
              "        vertical-align: middle;\n",
              "    }\n",
              "\n",
              "    .dataframe tbody tr th {\n",
              "        vertical-align: top;\n",
              "    }\n",
              "\n",
              "    .dataframe thead th {\n",
              "        text-align: right;\n",
              "    }\n",
              "</style>\n",
              "<table border=\"1\" class=\"dataframe\">\n",
              "  <thead>\n",
              "    <tr style=\"text-align: right;\">\n",
              "      <th></th>\n",
              "      <th>Unnamed: 0</th>\n",
              "      <th>Unnamed: 0.1</th>\n",
              "      <th>timestamp</th>\n",
              "      <th>Asset</th>\n",
              "      <th>Count</th>\n",
              "      <th>Open</th>\n",
              "      <th>High</th>\n",
              "      <th>Low</th>\n",
              "      <th>Close</th>\n",
              "      <th>Volume</th>\n",
              "      <th>...</th>\n",
              "      <th>Target</th>\n",
              "      <th>time</th>\n",
              "      <th>hour</th>\n",
              "      <th>dayofweek</th>\n",
              "      <th>quarter</th>\n",
              "      <th>month</th>\n",
              "      <th>year</th>\n",
              "      <th>dayofyear</th>\n",
              "      <th>dayofmonth</th>\n",
              "      <th>weekofyear</th>\n",
              "    </tr>\n",
              "  </thead>\n",
              "  <tbody>\n",
              "    <tr>\n",
              "      <th>0</th>\n",
              "      <td>0</td>\n",
              "      <td>0</td>\n",
              "      <td>1514764860</td>\n",
              "      <td>Bitcoin</td>\n",
              "      <td>229.0</td>\n",
              "      <td>13835.194</td>\n",
              "      <td>14013.8</td>\n",
              "      <td>13666.11</td>\n",
              "      <td>13850.176</td>\n",
              "      <td>31.550062</td>\n",
              "      <td>...</td>\n",
              "      <td>-0.014643</td>\n",
              "      <td>2018-01-01 00:01:00</td>\n",
              "      <td>0</td>\n",
              "      <td>0</td>\n",
              "      <td>1</td>\n",
              "      <td>1</td>\n",
              "      <td>2018</td>\n",
              "      <td>1</td>\n",
              "      <td>1</td>\n",
              "      <td>1</td>\n",
              "    </tr>\n",
              "    <tr>\n",
              "      <th>1</th>\n",
              "      <td>1</td>\n",
              "      <td>2</td>\n",
              "      <td>1514764920</td>\n",
              "      <td>Bitcoin</td>\n",
              "      <td>235.0</td>\n",
              "      <td>13835.036</td>\n",
              "      <td>14052.3</td>\n",
              "      <td>13680.00</td>\n",
              "      <td>13828.102</td>\n",
              "      <td>31.046432</td>\n",
              "      <td>...</td>\n",
              "      <td>-0.015037</td>\n",
              "      <td>2018-01-01 00:02:00</td>\n",
              "      <td>0</td>\n",
              "      <td>0</td>\n",
              "      <td>1</td>\n",
              "      <td>1</td>\n",
              "      <td>2018</td>\n",
              "      <td>1</td>\n",
              "      <td>1</td>\n",
              "      <td>1</td>\n",
              "    </tr>\n",
              "    <tr>\n",
              "      <th>2</th>\n",
              "      <td>2</td>\n",
              "      <td>4</td>\n",
              "      <td>1514764980</td>\n",
              "      <td>Bitcoin</td>\n",
              "      <td>528.0</td>\n",
              "      <td>13823.900</td>\n",
              "      <td>14000.4</td>\n",
              "      <td>13601.00</td>\n",
              "      <td>13801.314</td>\n",
              "      <td>55.061820</td>\n",
              "      <td>...</td>\n",
              "      <td>-0.010309</td>\n",
              "      <td>2018-01-01 00:03:00</td>\n",
              "      <td>0</td>\n",
              "      <td>0</td>\n",
              "      <td>1</td>\n",
              "      <td>1</td>\n",
              "      <td>2018</td>\n",
              "      <td>1</td>\n",
              "      <td>1</td>\n",
              "      <td>1</td>\n",
              "    </tr>\n",
              "    <tr>\n",
              "      <th>3</th>\n",
              "      <td>3</td>\n",
              "      <td>6</td>\n",
              "      <td>1514765040</td>\n",
              "      <td>Bitcoin</td>\n",
              "      <td>435.0</td>\n",
              "      <td>13802.512</td>\n",
              "      <td>13999.0</td>\n",
              "      <td>13576.28</td>\n",
              "      <td>13768.040</td>\n",
              "      <td>38.780529</td>\n",
              "      <td>...</td>\n",
              "      <td>-0.008999</td>\n",
              "      <td>2018-01-01 00:04:00</td>\n",
              "      <td>0</td>\n",
              "      <td>0</td>\n",
              "      <td>1</td>\n",
              "      <td>1</td>\n",
              "      <td>2018</td>\n",
              "      <td>1</td>\n",
              "      <td>1</td>\n",
              "      <td>1</td>\n",
              "    </tr>\n",
              "    <tr>\n",
              "      <th>4</th>\n",
              "      <td>4</td>\n",
              "      <td>8</td>\n",
              "      <td>1514765100</td>\n",
              "      <td>Bitcoin</td>\n",
              "      <td>742.0</td>\n",
              "      <td>13766.000</td>\n",
              "      <td>13955.9</td>\n",
              "      <td>13554.44</td>\n",
              "      <td>13724.914</td>\n",
              "      <td>108.501637</td>\n",
              "      <td>...</td>\n",
              "      <td>-0.008079</td>\n",
              "      <td>2018-01-01 00:05:00</td>\n",
              "      <td>0</td>\n",
              "      <td>0</td>\n",
              "      <td>1</td>\n",
              "      <td>1</td>\n",
              "      <td>2018</td>\n",
              "      <td>1</td>\n",
              "      <td>1</td>\n",
              "      <td>1</td>\n",
              "    </tr>\n",
              "  </tbody>\n",
              "</table>\n",
              "<p>5 rows × 21 columns</p>\n",
              "</div>\n",
              "      <button class=\"colab-df-convert\" onclick=\"convertToInteractive('df-cd98f34c-aeb2-4058-b517-15f01e600716')\"\n",
              "              title=\"Convert this dataframe to an interactive table.\"\n",
              "              style=\"display:none;\">\n",
              "        \n",
              "  <svg xmlns=\"http://www.w3.org/2000/svg\" height=\"24px\"viewBox=\"0 0 24 24\"\n",
              "       width=\"24px\">\n",
              "    <path d=\"M0 0h24v24H0V0z\" fill=\"none\"/>\n",
              "    <path d=\"M18.56 5.44l.94 2.06.94-2.06 2.06-.94-2.06-.94-.94-2.06-.94 2.06-2.06.94zm-11 1L8.5 8.5l.94-2.06 2.06-.94-2.06-.94L8.5 2.5l-.94 2.06-2.06.94zm10 10l.94 2.06.94-2.06 2.06-.94-2.06-.94-.94-2.06-.94 2.06-2.06.94z\"/><path d=\"M17.41 7.96l-1.37-1.37c-.4-.4-.92-.59-1.43-.59-.52 0-1.04.2-1.43.59L10.3 9.45l-7.72 7.72c-.78.78-.78 2.05 0 2.83L4 21.41c.39.39.9.59 1.41.59.51 0 1.02-.2 1.41-.59l7.78-7.78 2.81-2.81c.8-.78.8-2.07 0-2.86zM5.41 20L4 18.59l7.72-7.72 1.47 1.35L5.41 20z\"/>\n",
              "  </svg>\n",
              "      </button>\n",
              "      \n",
              "  <style>\n",
              "    .colab-df-container {\n",
              "      display:flex;\n",
              "      flex-wrap:wrap;\n",
              "      gap: 12px;\n",
              "    }\n",
              "\n",
              "    .colab-df-convert {\n",
              "      background-color: #E8F0FE;\n",
              "      border: none;\n",
              "      border-radius: 50%;\n",
              "      cursor: pointer;\n",
              "      display: none;\n",
              "      fill: #1967D2;\n",
              "      height: 32px;\n",
              "      padding: 0 0 0 0;\n",
              "      width: 32px;\n",
              "    }\n",
              "\n",
              "    .colab-df-convert:hover {\n",
              "      background-color: #E2EBFA;\n",
              "      box-shadow: 0px 1px 2px rgba(60, 64, 67, 0.3), 0px 1px 3px 1px rgba(60, 64, 67, 0.15);\n",
              "      fill: #174EA6;\n",
              "    }\n",
              "\n",
              "    [theme=dark] .colab-df-convert {\n",
              "      background-color: #3B4455;\n",
              "      fill: #D2E3FC;\n",
              "    }\n",
              "\n",
              "    [theme=dark] .colab-df-convert:hover {\n",
              "      background-color: #434B5C;\n",
              "      box-shadow: 0px 1px 3px 1px rgba(0, 0, 0, 0.15);\n",
              "      filter: drop-shadow(0px 1px 2px rgba(0, 0, 0, 0.3));\n",
              "      fill: #FFFFFF;\n",
              "    }\n",
              "  </style>\n",
              "\n",
              "      <script>\n",
              "        const buttonEl =\n",
              "          document.querySelector('#df-cd98f34c-aeb2-4058-b517-15f01e600716 button.colab-df-convert');\n",
              "        buttonEl.style.display =\n",
              "          google.colab.kernel.accessAllowed ? 'block' : 'none';\n",
              "\n",
              "        async function convertToInteractive(key) {\n",
              "          const element = document.querySelector('#df-cd98f34c-aeb2-4058-b517-15f01e600716');\n",
              "          const dataTable =\n",
              "            await google.colab.kernel.invokeFunction('convertToInteractive',\n",
              "                                                     [key], {});\n",
              "          if (!dataTable) return;\n",
              "\n",
              "          const docLinkHtml = 'Like what you see? Visit the ' +\n",
              "            '<a target=\"_blank\" href=https://colab.research.google.com/notebooks/data_table.ipynb>data table notebook</a>'\n",
              "            + ' to learn more about interactive tables.';\n",
              "          element.innerHTML = '';\n",
              "          dataTable['output_type'] = 'display_data';\n",
              "          await google.colab.output.renderOutput(dataTable, element);\n",
              "          const docLink = document.createElement('div');\n",
              "          docLink.innerHTML = docLinkHtml;\n",
              "          element.appendChild(docLink);\n",
              "        }\n",
              "      </script>\n",
              "    </div>\n",
              "  </div>\n",
              "  "
            ]
          },
          "metadata": {},
          "execution_count": 98
        }
      ],
      "source": [
        "btc = pd.read_csv('/content/drive/MyDrive/coins/btc.csv')\n",
        "btc.head()"
      ]
    },
    {
      "cell_type": "code",
      "source": [
        "btc.columns"
      ],
      "metadata": {
        "colab": {
          "base_uri": "https://localhost:8080/"
        },
        "id": "x2L4AdRiezF6",
        "outputId": "06e5541d-10cc-4d29-ccdb-6defc5687601"
      },
      "execution_count": 99,
      "outputs": [
        {
          "output_type": "execute_result",
          "data": {
            "text/plain": [
              "Index(['Unnamed: 0', 'Unnamed: 0.1', 'timestamp', 'Asset', 'Count', 'Open',\n",
              "       'High', 'Low', 'Close', 'Volume', 'VWAP', 'Target', 'time', 'hour',\n",
              "       'dayofweek', 'quarter', 'month', 'year', 'dayofyear', 'dayofmonth',\n",
              "       'weekofyear'],\n",
              "      dtype='object')"
            ]
          },
          "metadata": {},
          "execution_count": 99
        }
      ]
    },
    {
      "cell_type": "code",
      "execution_count": 146,
      "metadata": {
        "id": "XCRADo52_XAh"
      },
      "outputs": [],
      "source": [
        "def removeUnnamed(data):\n",
        "  \"\"\"\n",
        "  removeUnnamed: Removes the unnamed columns which was created during data preprocessing\n",
        "  Input : DataFrame\n",
        "  Output : DataFrame with Unnamed Columns dropped\n",
        "  \"\"\"\n",
        "  data.drop(columns = ['Unnamed: 0', 'Unnamed: 0.1'], inplace = True)\n",
        "  return data\n",
        "\n",
        "def getDate(data):\n",
        "  \"\"\"\n",
        "  getDate: Creates a new column containing the date for particular instance\n",
        "  Input : DataFrame\n",
        "  Output : DataFrame with Date Column\n",
        "  \"\"\"\n",
        "  data['date'] = pd.to_datetime(data['timestamp'], unit='s').dt.date\n",
        "  data = data.set_index('date')\n",
        "  return data\n",
        "\n",
        "def getRequired(data):\n",
        "  \"\"\"\n",
        "  getRequired: Retrieves only the required columns\n",
        "  Input : DataFrame\n",
        "  Output : DataFrame with required columns only\n",
        "  \"\"\"\n",
        "  return data[['Open', 'High', 'Low', 'Close', 'Volume']]\n",
        "\n",
        "def traintestSplit(data, test_size=0.2):\n",
        "  \"\"\"\n",
        "  traintestSplit: Splits the dataset into train/test dataset\n",
        "  Input : DataFrame\n",
        "  Output : Two dataframe, train and test respectively\n",
        "  \"\"\"\n",
        "  split_row = len(data) - int(test_size * len(data))\n",
        "  train = data.iloc[:split_row]\n",
        "  test = data.iloc[split_row:]\n",
        "  return train, train\n",
        "\n",
        "def zerobaseNormalize(data):\n",
        "  \"\"\"\n",
        "  traintestSplit: Splits the dataset into train/test dataset\n",
        "  Input : DataFrame\n",
        "  Output : Two dataframe, train and test respectively\n",
        "  \"\"\"\n",
        "  return data / data.iloc[0] - 1\n",
        "\n",
        "def minmaxNormalize(data):\n",
        "  return (data - data.min()) / (data.max() - data.min())\n",
        "\n",
        "def extract_window_data(data, window_len=5, zero_base=True):\n",
        "  window_data = []\n",
        "  for i in range(len(data) - window_len):\n",
        "      tmp = data[i: (i + window_len)].copy()\n",
        "      tmp = zerobaseNormalize(tmp)\n",
        "      window_data.append(tmp.values)\n",
        "  return np.array(window_data)\n",
        "\n",
        "def prepare_data(data, target, window_len=10, zero_base=True, test_size=0.2):\n",
        "  train_data, test_data = traintestSplit(data, test_size=test_size)\n",
        "\n",
        "  X_train = extract_window_data(train_data, window_len, zero_base)\n",
        "  X_test = extract_window_data(test_data, window_len, zero_base)\n",
        "  y_train = train_data[target][window_len:].values\n",
        "  y_test = test_data[target][window_len:].values\n",
        "\n",
        "  if zero_base:\n",
        "      y_train = y_train / train_data[target][:-window_len].values - 1\n",
        "      y_test = y_test / test_data[target][:-window_len].values - 1\n",
        "\n",
        "  return train_data, test_data, X_train, X_test, y_train, y_test\n",
        "\n",
        "def buildModel(input_data, output_size):\n",
        "  model = tf.keras.Sequential()\n",
        "  model.add(tf.keras.layers.LSTM(100, input_shape=(input_data.shape[1], input_data.shape[2])))\n",
        "  model.add(tf.keras.layers.Dropout(0.2))\n",
        "  model.add(tf.keras.layers.Dense(units=output_size, activation = 'linear'))\n",
        "\n",
        "  model.compile(loss='mse', optimizer='adam', metrics = ['accuracy'])\n",
        "  return model\n",
        "\n",
        "def line_plot(line1, line2, label1=None, label2=None, title='', lw=2):\n",
        "  fig, ax = plt.subplots(1, figsize=(13, 7))\n",
        "  ax.plot(line1, label=label1, linewidth=lw)\n",
        "  ax.plot(line2, label=label2, linewidth=lw)\n",
        "  ax.set_ylabel('price [CAD]', fontsize=14)\n",
        "  ax.set_title(title, fontsize=16)\n",
        "  ax.legend(loc='best', fontsize=16)\n",
        "\n",
        "def runAll(data):\n",
        "  data = removeUnnamed(data)\n",
        "  data = getDate(data)\n",
        "  data = getRequired(data)\n",
        "  return data"
      ]
    },
    {
      "cell_type": "code",
      "source": [
        "btc = runAll(btc)"
      ],
      "metadata": {
        "id": "bGZxqOzmeYhD"
      },
      "execution_count": 101,
      "outputs": []
    },
    {
      "cell_type": "code",
      "source": [
        "btc"
      ],
      "metadata": {
        "colab": {
          "base_uri": "https://localhost:8080/",
          "height": 455
        },
        "id": "RW6C9N-efFdn",
        "outputId": "62b79141-cfd2-480b-c3cd-61c586db2ee1"
      },
      "execution_count": 102,
      "outputs": [
        {
          "output_type": "execute_result",
          "data": {
            "text/plain": [
              "                    Open          High       Low         Close      Volume\n",
              "date                                                                      \n",
              "2018-01-01  13835.194000  14013.800000  13666.11  13850.176000   31.550062\n",
              "2018-01-01  13835.036000  14052.300000  13680.00  13828.102000   31.046432\n",
              "2018-01-01  13823.900000  14000.400000  13601.00  13801.314000   55.061820\n",
              "2018-01-01  13802.512000  13999.000000  13576.28  13768.040000   38.780529\n",
              "2018-01-01  13766.000000  13955.900000  13554.44  13724.914000  108.501637\n",
              "...                  ...           ...       ...           ...         ...\n",
              "2021-09-20  42983.780000  43001.850849  42878.26  42899.012857   56.850913\n",
              "2021-09-20  42904.197143  42932.000000  42840.16  42860.005714   80.993326\n",
              "2021-09-20  42859.385714  42887.500000  42797.20  42827.020000   65.677734\n",
              "2021-09-20  42839.012802  43042.160000  42818.10  43017.277143  138.335477\n",
              "2021-09-21  43009.961250  43048.510000  42961.64  43002.505000  128.206820\n",
              "\n",
              "[1956282 rows x 5 columns]"
            ],
            "text/html": [
              "\n",
              "  <div id=\"df-64b92dba-6318-460b-89a2-df3a7874dcc0\">\n",
              "    <div class=\"colab-df-container\">\n",
              "      <div>\n",
              "<style scoped>\n",
              "    .dataframe tbody tr th:only-of-type {\n",
              "        vertical-align: middle;\n",
              "    }\n",
              "\n",
              "    .dataframe tbody tr th {\n",
              "        vertical-align: top;\n",
              "    }\n",
              "\n",
              "    .dataframe thead th {\n",
              "        text-align: right;\n",
              "    }\n",
              "</style>\n",
              "<table border=\"1\" class=\"dataframe\">\n",
              "  <thead>\n",
              "    <tr style=\"text-align: right;\">\n",
              "      <th></th>\n",
              "      <th>Open</th>\n",
              "      <th>High</th>\n",
              "      <th>Low</th>\n",
              "      <th>Close</th>\n",
              "      <th>Volume</th>\n",
              "    </tr>\n",
              "    <tr>\n",
              "      <th>date</th>\n",
              "      <th></th>\n",
              "      <th></th>\n",
              "      <th></th>\n",
              "      <th></th>\n",
              "      <th></th>\n",
              "    </tr>\n",
              "  </thead>\n",
              "  <tbody>\n",
              "    <tr>\n",
              "      <th>2018-01-01</th>\n",
              "      <td>13835.194000</td>\n",
              "      <td>14013.800000</td>\n",
              "      <td>13666.11</td>\n",
              "      <td>13850.176000</td>\n",
              "      <td>31.550062</td>\n",
              "    </tr>\n",
              "    <tr>\n",
              "      <th>2018-01-01</th>\n",
              "      <td>13835.036000</td>\n",
              "      <td>14052.300000</td>\n",
              "      <td>13680.00</td>\n",
              "      <td>13828.102000</td>\n",
              "      <td>31.046432</td>\n",
              "    </tr>\n",
              "    <tr>\n",
              "      <th>2018-01-01</th>\n",
              "      <td>13823.900000</td>\n",
              "      <td>14000.400000</td>\n",
              "      <td>13601.00</td>\n",
              "      <td>13801.314000</td>\n",
              "      <td>55.061820</td>\n",
              "    </tr>\n",
              "    <tr>\n",
              "      <th>2018-01-01</th>\n",
              "      <td>13802.512000</td>\n",
              "      <td>13999.000000</td>\n",
              "      <td>13576.28</td>\n",
              "      <td>13768.040000</td>\n",
              "      <td>38.780529</td>\n",
              "    </tr>\n",
              "    <tr>\n",
              "      <th>2018-01-01</th>\n",
              "      <td>13766.000000</td>\n",
              "      <td>13955.900000</td>\n",
              "      <td>13554.44</td>\n",
              "      <td>13724.914000</td>\n",
              "      <td>108.501637</td>\n",
              "    </tr>\n",
              "    <tr>\n",
              "      <th>...</th>\n",
              "      <td>...</td>\n",
              "      <td>...</td>\n",
              "      <td>...</td>\n",
              "      <td>...</td>\n",
              "      <td>...</td>\n",
              "    </tr>\n",
              "    <tr>\n",
              "      <th>2021-09-20</th>\n",
              "      <td>42983.780000</td>\n",
              "      <td>43001.850849</td>\n",
              "      <td>42878.26</td>\n",
              "      <td>42899.012857</td>\n",
              "      <td>56.850913</td>\n",
              "    </tr>\n",
              "    <tr>\n",
              "      <th>2021-09-20</th>\n",
              "      <td>42904.197143</td>\n",
              "      <td>42932.000000</td>\n",
              "      <td>42840.16</td>\n",
              "      <td>42860.005714</td>\n",
              "      <td>80.993326</td>\n",
              "    </tr>\n",
              "    <tr>\n",
              "      <th>2021-09-20</th>\n",
              "      <td>42859.385714</td>\n",
              "      <td>42887.500000</td>\n",
              "      <td>42797.20</td>\n",
              "      <td>42827.020000</td>\n",
              "      <td>65.677734</td>\n",
              "    </tr>\n",
              "    <tr>\n",
              "      <th>2021-09-20</th>\n",
              "      <td>42839.012802</td>\n",
              "      <td>43042.160000</td>\n",
              "      <td>42818.10</td>\n",
              "      <td>43017.277143</td>\n",
              "      <td>138.335477</td>\n",
              "    </tr>\n",
              "    <tr>\n",
              "      <th>2021-09-21</th>\n",
              "      <td>43009.961250</td>\n",
              "      <td>43048.510000</td>\n",
              "      <td>42961.64</td>\n",
              "      <td>43002.505000</td>\n",
              "      <td>128.206820</td>\n",
              "    </tr>\n",
              "  </tbody>\n",
              "</table>\n",
              "<p>1956282 rows × 5 columns</p>\n",
              "</div>\n",
              "      <button class=\"colab-df-convert\" onclick=\"convertToInteractive('df-64b92dba-6318-460b-89a2-df3a7874dcc0')\"\n",
              "              title=\"Convert this dataframe to an interactive table.\"\n",
              "              style=\"display:none;\">\n",
              "        \n",
              "  <svg xmlns=\"http://www.w3.org/2000/svg\" height=\"24px\"viewBox=\"0 0 24 24\"\n",
              "       width=\"24px\">\n",
              "    <path d=\"M0 0h24v24H0V0z\" fill=\"none\"/>\n",
              "    <path d=\"M18.56 5.44l.94 2.06.94-2.06 2.06-.94-2.06-.94-.94-2.06-.94 2.06-2.06.94zm-11 1L8.5 8.5l.94-2.06 2.06-.94-2.06-.94L8.5 2.5l-.94 2.06-2.06.94zm10 10l.94 2.06.94-2.06 2.06-.94-2.06-.94-.94-2.06-.94 2.06-2.06.94z\"/><path d=\"M17.41 7.96l-1.37-1.37c-.4-.4-.92-.59-1.43-.59-.52 0-1.04.2-1.43.59L10.3 9.45l-7.72 7.72c-.78.78-.78 2.05 0 2.83L4 21.41c.39.39.9.59 1.41.59.51 0 1.02-.2 1.41-.59l7.78-7.78 2.81-2.81c.8-.78.8-2.07 0-2.86zM5.41 20L4 18.59l7.72-7.72 1.47 1.35L5.41 20z\"/>\n",
              "  </svg>\n",
              "      </button>\n",
              "      \n",
              "  <style>\n",
              "    .colab-df-container {\n",
              "      display:flex;\n",
              "      flex-wrap:wrap;\n",
              "      gap: 12px;\n",
              "    }\n",
              "\n",
              "    .colab-df-convert {\n",
              "      background-color: #E8F0FE;\n",
              "      border: none;\n",
              "      border-radius: 50%;\n",
              "      cursor: pointer;\n",
              "      display: none;\n",
              "      fill: #1967D2;\n",
              "      height: 32px;\n",
              "      padding: 0 0 0 0;\n",
              "      width: 32px;\n",
              "    }\n",
              "\n",
              "    .colab-df-convert:hover {\n",
              "      background-color: #E2EBFA;\n",
              "      box-shadow: 0px 1px 2px rgba(60, 64, 67, 0.3), 0px 1px 3px 1px rgba(60, 64, 67, 0.15);\n",
              "      fill: #174EA6;\n",
              "    }\n",
              "\n",
              "    [theme=dark] .colab-df-convert {\n",
              "      background-color: #3B4455;\n",
              "      fill: #D2E3FC;\n",
              "    }\n",
              "\n",
              "    [theme=dark] .colab-df-convert:hover {\n",
              "      background-color: #434B5C;\n",
              "      box-shadow: 0px 1px 3px 1px rgba(0, 0, 0, 0.15);\n",
              "      filter: drop-shadow(0px 1px 2px rgba(0, 0, 0, 0.3));\n",
              "      fill: #FFFFFF;\n",
              "    }\n",
              "  </style>\n",
              "\n",
              "      <script>\n",
              "        const buttonEl =\n",
              "          document.querySelector('#df-64b92dba-6318-460b-89a2-df3a7874dcc0 button.colab-df-convert');\n",
              "        buttonEl.style.display =\n",
              "          google.colab.kernel.accessAllowed ? 'block' : 'none';\n",
              "\n",
              "        async function convertToInteractive(key) {\n",
              "          const element = document.querySelector('#df-64b92dba-6318-460b-89a2-df3a7874dcc0');\n",
              "          const dataTable =\n",
              "            await google.colab.kernel.invokeFunction('convertToInteractive',\n",
              "                                                     [key], {});\n",
              "          if (!dataTable) return;\n",
              "\n",
              "          const docLinkHtml = 'Like what you see? Visit the ' +\n",
              "            '<a target=\"_blank\" href=https://colab.research.google.com/notebooks/data_table.ipynb>data table notebook</a>'\n",
              "            + ' to learn more about interactive tables.';\n",
              "          element.innerHTML = '';\n",
              "          dataTable['output_type'] = 'display_data';\n",
              "          await google.colab.output.renderOutput(dataTable, element);\n",
              "          const docLink = document.createElement('div');\n",
              "          docLink.innerHTML = docLinkHtml;\n",
              "          element.appendChild(docLink);\n",
              "        }\n",
              "      </script>\n",
              "    </div>\n",
              "  </div>\n",
              "  "
            ]
          },
          "metadata": {},
          "execution_count": 102
        }
      ]
    },
    {
      "cell_type": "code",
      "source": [
        "btc['date'] = str(btc['date'])"
      ],
      "metadata": {
        "id": "5eEbty0XFBfm"
      },
      "execution_count": 52,
      "outputs": []
    },
    {
      "cell_type": "code",
      "source": [
        "train, test, X_train, X_test, y_train, y_test = prepare_data(btc, 'Close', window_len=5)"
      ],
      "metadata": {
        "id": "43ZBXEDOhQNU"
      },
      "execution_count": 104,
      "outputs": []
    },
    {
      "cell_type": "code",
      "source": [
        "model = buildModel(X_train, output_size=1)"
      ],
      "metadata": {
        "id": "xssDxkznRbqM"
      },
      "execution_count": 110,
      "outputs": []
    },
    {
      "cell_type": "code",
      "source": [
        "history = model.fit(X_train, y_train, epochs=20, batch_size=32, shuffle=True)"
      ],
      "metadata": {
        "colab": {
          "base_uri": "https://localhost:8080/"
        },
        "id": "f2qJzG80Rc8b",
        "outputId": "3cccee08-d93c-4314-c506-65e1e2797ffb"
      },
      "execution_count": 111,
      "outputs": [
        {
          "output_type": "stream",
          "name": "stdout",
          "text": [
            "Epoch 1/20\n",
            "48907/48907 [==============================] - 386s 8ms/step - loss: 1.0098e-05 - accuracy: 3.8977e-05\n",
            "Epoch 2/20\n",
            "48907/48907 [==============================] - 373s 8ms/step - loss: 1.8323e-06 - accuracy: 3.8977e-05\n",
            "Epoch 3/20\n",
            "48907/48907 [==============================] - 374s 8ms/step - loss: 1.7535e-06 - accuracy: 3.8977e-05\n",
            "Epoch 4/20\n",
            "48907/48907 [==============================] - 386s 8ms/step - loss: 1.7221e-06 - accuracy: 3.8977e-05\n",
            "Epoch 5/20\n",
            "48907/48907 [==============================] - 384s 8ms/step - loss: 1.7084e-06 - accuracy: 3.8977e-05\n",
            "Epoch 6/20\n",
            "48907/48907 [==============================] - 377s 8ms/step - loss: 1.6842e-06 - accuracy: 3.8977e-05\n",
            "Epoch 7/20\n",
            "48907/48907 [==============================] - 386s 8ms/step - loss: 1.6914e-06 - accuracy: 3.8977e-05\n",
            "Epoch 8/20\n",
            "48907/48907 [==============================] - 380s 8ms/step - loss: 1.6623e-06 - accuracy: 3.8977e-05\n",
            "Epoch 9/20\n",
            "48907/48907 [==============================] - 380s 8ms/step - loss: 1.6808e-06 - accuracy: 3.8977e-05\n",
            "Epoch 10/20\n",
            "48907/48907 [==============================] - 374s 8ms/step - loss: 1.6476e-06 - accuracy: 3.8977e-05\n",
            "Epoch 11/20\n",
            "48907/48907 [==============================] - 375s 8ms/step - loss: 1.6750e-06 - accuracy: 3.8977e-05\n",
            "Epoch 12/20\n",
            "48907/48907 [==============================] - 382s 8ms/step - loss: 1.6384e-06 - accuracy: 3.8977e-05\n",
            "Epoch 13/20\n",
            "48907/48907 [==============================] - 386s 8ms/step - loss: 1.6579e-06 - accuracy: 3.8977e-05\n",
            "Epoch 14/20\n",
            "48907/48907 [==============================] - 382s 8ms/step - loss: 1.6298e-06 - accuracy: 3.8977e-05\n",
            "Epoch 15/20\n",
            "48907/48907 [==============================] - 376s 8ms/step - loss: 1.6242e-06 - accuracy: 3.8977e-05\n",
            "Epoch 16/20\n",
            "48907/48907 [==============================] - 372s 8ms/step - loss: 1.6554e-06 - accuracy: 3.8977e-05\n",
            "Epoch 17/20\n",
            "48907/48907 [==============================] - 370s 8ms/step - loss: 1.7904e-06 - accuracy: 3.8977e-05\n",
            "Epoch 18/20\n",
            "48907/48907 [==============================] - 369s 8ms/step - loss: 1.6693e-06 - accuracy: 3.8977e-05\n",
            "Epoch 19/20\n",
            "48907/48907 [==============================] - 373s 8ms/step - loss: 1.6225e-06 - accuracy: 3.8977e-05\n",
            "Epoch 20/20\n",
            "48907/48907 [==============================] - 372s 8ms/step - loss: 1.6439e-06 - accuracy: 3.8977e-05\n"
          ]
        }
      ]
    },
    {
      "cell_type": "code",
      "source": [
        "history"
      ],
      "metadata": {
        "colab": {
          "base_uri": "https://localhost:8080/"
        },
        "id": "5wXwfCQBRebn",
        "outputId": "72de1c04-51f2-468d-861e-6db951da52b4"
      },
      "execution_count": 112,
      "outputs": [
        {
          "output_type": "execute_result",
          "data": {
            "text/plain": [
              "<keras.callbacks.History at 0x7f26ea4df390>"
            ]
          },
          "metadata": {},
          "execution_count": 112
        }
      ]
    },
    {
      "cell_type": "code",
      "source": [
        "import joblib"
      ],
      "metadata": {
        "id": "0zk995SBJp0j"
      },
      "execution_count": 113,
      "outputs": []
    },
    {
      "cell_type": "code",
      "source": [
        "!mkdir '/content/drive/MyDrive/Models'\n",
        "!mkdir '/content/drive/MyDrive/Models/crypto-price-pred'"
      ],
      "metadata": {
        "id": "6WvB5NweJ8Hx"
      },
      "execution_count": 118,
      "outputs": []
    },
    {
      "cell_type": "code",
      "source": [
        "joblib.dump(model, '/content/drive/MyDrive/Models/crypto-price-pred/BaseLine-Crypto.h5')"
      ],
      "metadata": {
        "colab": {
          "base_uri": "https://localhost:8080/"
        },
        "id": "XZNh26IvJwz4",
        "outputId": "0aa3b123-a016-4db4-8210-e7900c57a565"
      },
      "execution_count": 119,
      "outputs": [
        {
          "output_type": "stream",
          "name": "stderr",
          "text": [
            "WARNING:absl:Found untraced functions such as lstm_cell_3_layer_call_fn, lstm_cell_3_layer_call_and_return_conditional_losses while saving (showing 2 of 2). These functions will not be directly callable after loading.\n",
            "WARNING:absl:<keras.layers.recurrent.LSTMCell object at 0x7f26ed050410> has the same name 'LSTMCell' as a built-in Keras object. Consider renaming <class 'keras.layers.recurrent.LSTMCell'> to avoid naming conflicts when loading with `tf.keras.models.load_model`. If renaming is not possible, pass the object in the `custom_objects` parameter of the load function.\n"
          ]
        },
        {
          "output_type": "execute_result",
          "data": {
            "text/plain": [
              "['/content/drive/MyDrive/Models/crypto-price-pred/BaseLine-Crypto.h5']"
            ]
          },
          "metadata": {},
          "execution_count": 119
        }
      ]
    },
    {
      "cell_type": "code",
      "source": [
        "joblib.dump(model, '/content/drive/MyDrive/Models/crypto-price-pred/BaseLine-Crypto.pkl')"
      ],
      "metadata": {
        "colab": {
          "base_uri": "https://localhost:8080/"
        },
        "id": "7L9zTNGWJ5td",
        "outputId": "9c6024b0-867d-46db-d40e-1b5e8ba600dc"
      },
      "execution_count": 120,
      "outputs": [
        {
          "output_type": "stream",
          "name": "stderr",
          "text": [
            "WARNING:absl:Found untraced functions such as lstm_cell_3_layer_call_fn, lstm_cell_3_layer_call_and_return_conditional_losses while saving (showing 2 of 2). These functions will not be directly callable after loading.\n",
            "WARNING:absl:<keras.layers.recurrent.LSTMCell object at 0x7f26ed050410> has the same name 'LSTMCell' as a built-in Keras object. Consider renaming <class 'keras.layers.recurrent.LSTMCell'> to avoid naming conflicts when loading with `tf.keras.models.load_model`. If renaming is not possible, pass the object in the `custom_objects` parameter of the load function.\n"
          ]
        },
        {
          "output_type": "execute_result",
          "data": {
            "text/plain": [
              "['/content/drive/MyDrive/Models/crypto-price-pred/BaseLine-Crypto.pkl']"
            ]
          },
          "metadata": {},
          "execution_count": 120
        }
      ]
    },
    {
      "cell_type": "code",
      "source": [
        "# y_test = test['Close'][20:]\n",
        "y_pred = model.predict(X_test).squeeze()"
      ],
      "metadata": {
        "id": "4JUb7AMZKoEZ"
      },
      "execution_count": 131,
      "outputs": []
    },
    {
      "cell_type": "code",
      "source": [
        "y_test = test['Close'][5:]"
      ],
      "metadata": {
        "id": "JfNAhpGDONTE"
      },
      "execution_count": 144,
      "outputs": []
    },
    {
      "cell_type": "code",
      "source": [
        "preds = test['Close'].values[:-5] * (y_pred + 1)\n",
        "preds = pd.Series(index=y_test.index, data=preds)\n",
        "line_plot(y_test, preds, 'actual', 'prediction', lw=3)"
      ],
      "metadata": {
        "colab": {
          "base_uri": "https://localhost:8080/",
          "height": 428
        },
        "id": "cRIrE1HaLEP-",
        "outputId": "70bfa674-1666-453f-b877-f31fb7b67ab7"
      },
      "execution_count": 145,
      "outputs": [
        {
          "output_type": "display_data",
          "data": {
            "text/plain": [
              "<Figure size 936x504 with 1 Axes>"
            ],
            "image/png": "[encoded data removed]"
          },
          "metadata": {
            "needs_background": "light"
          }
        }
      ]
    },
    {
      "cell_type": "code",
      "source": [
        "mean_absolute_error(preds, y_test)"
      ],
      "metadata": {
        "colab": {
          "base_uri": "https://localhost:8080/"
        },
        "id": "QtGyaN44OK5p",
        "outputId": "90057255-1a1e-46d3-ea12-a0ae69f237cd"
      },
      "execution_count": 147,
      "outputs": [
        {
          "output_type": "execute_result",
          "data": {
            "text/plain": [
              "6.42492623506962"
            ]
          },
          "metadata": {},
          "execution_count": 147
        }
      ]
    },
    {
      "cell_type": "code",
      "source": [
        "plt.plot(preds)"
      ],
      "metadata": {
        "colab": {
          "base_uri": "https://localhost:8080/",
          "height": 285
        },
        "id": "Ub1-oinMP_my",
        "outputId": "6f9ee052-95fe-4333-e1d9-26eb7a390b30"
      },
      "execution_count": 148,
      "outputs": [
        {
          "output_type": "execute_result",
          "data": {
            "text/plain": [
              "[<matplotlib.lines.Line2D at 0x7f26e9f97850>]"
            ]
          },
          "metadata": {},
          "execution_count": 148
        },
        {
          "output_type": "display_data",
          "data": {
            "text/plain": [
              "<Figure size 432x288 with 1 Axes>"
            ],
            "image/png": "[encoded data removed]"
          },
          "metadata": {
            "needs_background": "light"
          }
        }
      ]
    },
    {
      "cell_type": "code",
      "source": [
        "plt.plot(y_test)"
      ],
      "metadata": {
        "colab": {
          "base_uri": "https://localhost:8080/",
          "height": 285
        },
        "id": "hYL4C-DTQFZF",
        "outputId": "3acbfe48-2715-46ca-963b-239ed24b1a32"
      },
      "execution_count": 149,
      "outputs": [
        {
          "output_type": "execute_result",
          "data": {
            "text/plain": [
              "[<matplotlib.lines.Line2D at 0x7f26ee1d2b10>]"
            ]
          },
          "metadata": {},
          "execution_count": 149
        },
        {
          "output_type": "display_data",
          "data": {
            "text/plain": [
              "<Figure size 432x288 with 1 Axes>"
            ],
            "image/png": "[encoded data removed]"
          },
          "metadata": {
            "needs_background": "light"
          }
        }
      ]
    },
    {
      "cell_type": "code",
      "source": [
        "len(X_test), len(X_train)"
      ],
      "metadata": {
        "colab": {
          "base_uri": "https://localhost:8080/"
        },
        "id": "GYz4nSmkQHXK",
        "outputId": "a32de936-49bb-4730-a5d4-58ba0de99b86"
      },
      "execution_count": 152,
      "outputs": [
        {
          "output_type": "execute_result",
          "data": {
            "text/plain": [
              "(1565021, 1565021)"
            ]
          },
          "metadata": {},
          "execution_count": 152
        }
      ]
    },
    {
      "cell_type": "code",
      "source": [
        "model.predict(X_test[-20:])"
      ],
      "metadata": {
        "colab": {
          "base_uri": "https://localhost:8080/"
        },
        "id": "OYEaPY0wQMT5",
        "outputId": "bb3e7a0e-0c3c-4b77-cfbd-22103ff12d6b"
      },
      "execution_count": 153,
      "outputs": [
        {
          "output_type": "execute_result",
          "data": {
            "text/plain": [
              "array([[ 2.8986840e-03],\n",
              "       [ 4.9466104e-04],\n",
              "       [ 6.8303716e-04],\n",
              "       [-1.2760595e-04],\n",
              "       [-1.4765449e-03],\n",
              "       [ 2.2537936e-04],\n",
              "       [ 5.9448858e-04],\n",
              "       [ 1.5084923e-03],\n",
              "       [ 2.0411860e-03],\n",
              "       [ 2.0279658e-03],\n",
              "       [ 5.7273282e-04],\n",
              "       [ 4.6461218e-04],\n",
              "       [ 2.0174359e-03],\n",
              "       [ 2.9702494e-03],\n",
              "       [ 1.7352658e-03],\n",
              "       [ 1.3698741e-03],\n",
              "       [-9.0387097e-05],\n",
              "       [-1.1186994e-03],\n",
              "       [-3.1574718e-03],\n",
              "       [-4.2572152e-03]], dtype=float32)"
            ]
          },
          "metadata": {},
          "execution_count": 153
        }
      ]
    },
    {
      "cell_type": "code",
      "source": [
        "a = X_test[:-20]\n",
        "b = X_test[]"
      ],
      "metadata": {
        "id": "O7bOV9TLQfp2"
      },
      "execution_count": null,
      "outputs": []
    },
    {
      "cell_type": "code",
      "source": [
        "pd.DataFrame(X_test[-20:][0])"
      ],
      "metadata": {
        "colab": {
          "base_uri": "https://localhost:8080/",
          "height": 206
        },
        "id": "g1BdRQgfc_RZ",
        "outputId": "46670df1-bedc-469d-a49f-d01ecf334a4f"
      },
      "execution_count": 156,
      "outputs": [
        {
          "output_type": "execute_result",
          "data": {
            "text/plain": [
              "          0         1         2         3         4\n",
              "0  0.000000  0.000000  0.000000  0.000000  0.000000\n",
              "1 -0.000052  0.000372  0.000013  0.000491 -0.018198\n",
              "2  0.000669  0.001324  0.000725  0.001509  0.445563\n",
              "3  0.001547  0.001730  0.001650  0.001964  0.238785\n",
              "4  0.002073  0.002807  0.002145  0.002602  0.168810"
            ],
            "text/html": [
              "\n",
              "  <div id=\"df-8c44e45b-772a-4017-b70a-7179867c7f10\">\n",
              "    <div class=\"colab-df-container\">\n",
              "      <div>\n",
              "<style scoped>\n",
              "    .dataframe tbody tr th:only-of-type {\n",
              "        vertical-align: middle;\n",
              "    }\n",
              "\n",
              "    .dataframe tbody tr th {\n",
              "        vertical-align: top;\n",
              "    }\n",
              "\n",
              "    .dataframe thead th {\n",
              "        text-align: right;\n",
              "    }\n",
              "</style>\n",
              "<table border=\"1\" class=\"dataframe\">\n",
              "  <thead>\n",
              "    <tr style=\"text-align: right;\">\n",
              "      <th></th>\n",
              "      <th>0</th>\n",
              "      <th>1</th>\n",
              "      <th>2</th>\n",
              "      <th>3</th>\n",
              "      <th>4</th>\n",
              "    </tr>\n",
              "  </thead>\n",
              "  <tbody>\n",
              "    <tr>\n",
              "      <th>0</th>\n",
              "      <td>0.000000</td>\n",
              "      <td>0.000000</td>\n",
              "      <td>0.000000</td>\n",
              "      <td>0.000000</td>\n",
              "      <td>0.000000</td>\n",
              "    </tr>\n",
              "    <tr>\n",
              "      <th>1</th>\n",
              "      <td>-0.000052</td>\n",
              "      <td>0.000372</td>\n",
              "      <td>0.000013</td>\n",
              "      <td>0.000491</td>\n",
              "      <td>-0.018198</td>\n",
              "    </tr>\n",
              "    <tr>\n",
              "      <th>2</th>\n",
              "      <td>0.000669</td>\n",
              "      <td>0.001324</td>\n",
              "      <td>0.000725</td>\n",
              "      <td>0.001509</td>\n",
              "      <td>0.445563</td>\n",
              "    </tr>\n",
              "    <tr>\n",
              "      <th>3</th>\n",
              "      <td>0.001547</td>\n",
              "      <td>0.001730</td>\n",
              "      <td>0.001650</td>\n",
              "      <td>0.001964</td>\n",
              "      <td>0.238785</td>\n",
              "    </tr>\n",
              "    <tr>\n",
              "      <th>4</th>\n",
              "      <td>0.002073</td>\n",
              "      <td>0.002807</td>\n",
              "      <td>0.002145</td>\n",
              "      <td>0.002602</td>\n",
              "      <td>0.168810</td>\n",
              "    </tr>\n",
              "  </tbody>\n",
              "</table>\n",
              "</div>\n",
              "      <button class=\"colab-df-convert\" onclick=\"convertToInteractive('df-8c44e45b-772a-4017-b70a-7179867c7f10')\"\n",
              "              title=\"Convert this dataframe to an interactive table.\"\n",
              "              style=\"display:none;\">\n",
              "        \n",
              "  <svg xmlns=\"http://www.w3.org/2000/svg\" height=\"24px\"viewBox=\"0 0 24 24\"\n",
              "       width=\"24px\">\n",
              "    <path d=\"M0 0h24v24H0V0z\" fill=\"none\"/>\n",
              "    <path d=\"M18.56 5.44l.94 2.06.94-2.06 2.06-.94-2.06-.94-.94-2.06-.94 2.06-2.06.94zm-11 1L8.5 8.5l.94-2.06 2.06-.94-2.06-.94L8.5 2.5l-.94 2.06-2.06.94zm10 10l.94 2.06.94-2.06 2.06-.94-2.06-.94-.94-2.06-.94 2.06-2.06.94z\"/><path d=\"M17.41 7.96l-1.37-1.37c-.4-.4-.92-.59-1.43-.59-.52 0-1.04.2-1.43.59L10.3 9.45l-7.72 7.72c-.78.78-.78 2.05 0 2.83L4 21.41c.39.39.9.59 1.41.59.51 0 1.02-.2 1.41-.59l7.78-7.78 2.81-2.81c.8-.78.8-2.07 0-2.86zM5.41 20L4 18.59l7.72-7.72 1.47 1.35L5.41 20z\"/>\n",
              "  </svg>\n",
              "      </button>\n",
              "      \n",
              "  <style>\n",
              "    .colab-df-container {\n",
              "      display:flex;\n",
              "      flex-wrap:wrap;\n",
              "      gap: 12px;\n",
              "    }\n",
              "\n",
              "    .colab-df-convert {\n",
              "      background-color: #E8F0FE;\n",
              "      border: none;\n",
              "      border-radius: 50%;\n",
              "      cursor: pointer;\n",
              "      display: none;\n",
              "      fill: #1967D2;\n",
              "      height: 32px;\n",
              "      padding: 0 0 0 0;\n",
              "      width: 32px;\n",
              "    }\n",
              "\n",
              "    .colab-df-convert:hover {\n",
              "      background-color: #E2EBFA;\n",
              "      box-shadow: 0px 1px 2px rgba(60, 64, 67, 0.3), 0px 1px 3px 1px rgba(60, 64, 67, 0.15);\n",
              "      fill: #174EA6;\n",
              "    }\n",
              "\n",
              "    [theme=dark] .colab-df-convert {\n",
              "      background-color: #3B4455;\n",
              "      fill: #D2E3FC;\n",
              "    }\n",
              "\n",
              "    [theme=dark] .colab-df-convert:hover {\n",
              "      background-color: #434B5C;\n",
              "      box-shadow: 0px 1px 3px 1px rgba(0, 0, 0, 0.15);\n",
              "      filter: drop-shadow(0px 1px 2px rgba(0, 0, 0, 0.3));\n",
              "      fill: #FFFFFF;\n",
              "    }\n",
              "  </style>\n",
              "\n",
              "      <script>\n",
              "        const buttonEl =\n",
              "          document.querySelector('#df-8c44e45b-772a-4017-b70a-7179867c7f10 button.colab-df-convert');\n",
              "        buttonEl.style.display =\n",
              "          google.colab.kernel.accessAllowed ? 'block' : 'none';\n",
              "\n",
              "        async function convertToInteractive(key) {\n",
              "          const element = document.querySelector('#df-8c44e45b-772a-4017-b70a-7179867c7f10');\n",
              "          const dataTable =\n",
              "            await google.colab.kernel.invokeFunction('convertToInteractive',\n",
              "                                                     [key], {});\n",
              "          if (!dataTable) return;\n",
              "\n",
              "          const docLinkHtml = 'Like what you see? Visit the ' +\n",
              "            '<a target=\"_blank\" href=https://colab.research.google.com/notebooks/data_table.ipynb>data table notebook</a>'\n",
              "            + ' to learn more about interactive tables.';\n",
              "          element.innerHTML = '';\n",
              "          dataTable['output_type'] = 'display_data';\n",
              "          await google.colab.output.renderOutput(dataTable, element);\n",
              "          const docLink = document.createElement('div');\n",
              "          docLink.innerHTML = docLinkHtml;\n",
              "          element.appendChild(docLink);\n",
              "        }\n",
              "      </script>\n",
              "    </div>\n",
              "  </div>\n",
              "  "
            ]
          },
          "metadata": {},
          "execution_count": 156
        }
      ]
    },
    {
      "cell_type": "code",
      "source": [
        ""
      ],
      "metadata": {
        "id": "NTatPAPLdCmm"
      },
      "execution_count": null,
      "outputs": []
    }
  ],
  "metadata": {
    "accelerator": "TPU",
    "colab": {
      "collapsed_sections": [],
      "name": "Data-Preprocessing",
      "provenance": []
    },
    "gpuClass": "standard",
    "kernelspec": {
      "display_name": "Python 3",
      "name": "python3"
    },
    "language_info": {
      "name": "python"
    }
  },
  "nbformat": 4,
  "nbformat_minor": 0
}