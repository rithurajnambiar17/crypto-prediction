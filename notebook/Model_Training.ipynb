{
  "cells": [
    {
      "cell_type": "code",
      "execution_count": 132,
      "metadata": {
        "colab": {
          "base_uri": "https://localhost:8080/",
          "height": 531
        },
        "id": "MfGOMpvdVSQp",
        "outputId": "5855d6f8-9a23-4299-b55d-635798232cb2"
      },
      "outputs": [
        {
          "name": "stdout",
          "output_type": "stream",
          "text": [
            "Looking in indexes: https://pypi.org/simple, https://us-python.pkg.dev/colab-wheels/public/simple/\n",
            "Collecting yfinance\n",
            "  Downloading yfinance-0.1.74-py2.py3-none-any.whl (27 kB)\n",
            "Requirement already satisfied: multitasking>=0.0.7 in /usr/local/lib/python3.7/dist-packages (from yfinance) (0.0.11)\n",
            "Collecting requests>=2.26\n",
            "  Downloading requests-2.28.1-py3-none-any.whl (62 kB)\n",
            "\u001b[K     |████████████████████████████████| 62 kB 1.3 MB/s \n",
            "\u001b[?25hRequirement already satisfied: pandas>=0.24.0 in /usr/local/lib/python3.7/dist-packages (from yfinance) (1.3.5)\n",
            "Requirement already satisfied: numpy>=1.15 in /usr/local/lib/python3.7/dist-packages (from yfinance) (1.21.6)\n",
            "Requirement already satisfied: lxml>=4.5.1 in /usr/local/lib/python3.7/dist-packages (from yfinance) (4.9.1)\n",
            "Requirement already satisfied: python-dateutil>=2.7.3 in /usr/local/lib/python3.7/dist-packages (from pandas>=0.24.0->yfinance) (2.8.2)\n",
            "Requirement already satisfied: pytz>=2017.3 in /usr/local/lib/python3.7/dist-packages (from pandas>=0.24.0->yfinance) (2022.2.1)\n",
            "Requirement already satisfied: six>=1.5 in /usr/local/lib/python3.7/dist-packages (from python-dateutil>=2.7.3->pandas>=0.24.0->yfinance) (1.15.0)\n",
            "Requirement already satisfied: idna<4,>=2.5 in /usr/local/lib/python3.7/dist-packages (from requests>=2.26->yfinance) (2.10)\n",
            "Requirement already satisfied: charset-normalizer<3,>=2 in /usr/local/lib/python3.7/dist-packages (from requests>=2.26->yfinance) (2.1.0)\n",
            "Requirement already satisfied: certifi>=2017.4.17 in /usr/local/lib/python3.7/dist-packages (from requests>=2.26->yfinance) (2022.6.15)\n",
            "Requirement already satisfied: urllib3<1.27,>=1.21.1 in /usr/local/lib/python3.7/dist-packages (from requests>=2.26->yfinance) (1.24.3)\n",
            "Installing collected packages: requests, yfinance\n",
            "  Attempting uninstall: requests\n",
            "    Found existing installation: requests 2.23.0\n",
            "    Uninstalling requests-2.23.0:\n",
            "      Successfully uninstalled requests-2.23.0\n",
            "Successfully installed requests-2.28.1 yfinance-0.1.74\n"
          ]
        },
        {
          "data": {
            "application/vnd.colab-display-data+json": {
              "pip_warning": {
                "packages": [
                  "requests"
                ]
              }
            }
          },
          "metadata": {},
          "output_type": "display_data"
        }
      ],
      "source": [
        "!pip3 install yfinance"
      ]
    },
    {
      "cell_type": "code",
      "execution_count": 133,
      "metadata": {
        "id": "tOdRkYid6IHl"
      },
      "outputs": [],
      "source": [
        "import joblib\n",
        "import datetime\n",
        "import numpy as np\n",
        "import pandas as pd\n",
        "import seaborn as sns\n",
        "import yfinance as yf\n",
        "import tensorflow as tf\n",
        "import matplotlib.pyplot as plt\n",
        "from sklearn.preprocessing import MinMaxScaler"
      ]
    },
    {
      "cell_type": "code",
      "execution_count": 137,
      "metadata": {
        "id": "5C60yRDH6XRW"
      },
      "outputs": [],
      "source": [
        "def processData(coin):\n",
        "  #Reading data\n",
        "  BASE_URL = '/content/drive/MyDrive/data/'\n",
        "  data = pd.read_csv(BASE_URL + coin + '.csv')\n",
        "\n",
        "  #Creating date\n",
        "  data['Date'] = pd.to_datetime(data['timestamp'], unit = 's').dt.date\n",
        "\n",
        "  #Intializing variable\n",
        "  dates = data['Date'].unique()\n",
        "  dates = list(dates)\n",
        "  for i in range(len(dates)):\n",
        "    dates[i] = str(dates[i])\n",
        "\n",
        "  #Extracting ['Date', 'Close'] and setting 'date' as index\n",
        "  data = data[['Close', 'Date']]\n",
        "  data['Date'] = data['Date'].astype(str)\n",
        "\n",
        "  final_data = []\n",
        "\n",
        "  #Creating day-wise dataframe for the given data\n",
        "  for i in dates:\n",
        "    max = data[data['Date'] == i][-1:]\n",
        "    final_data.append(max)\n",
        "\n",
        "  #Reshape data to 2D\n",
        "  final_data = np.array(final_data).reshape(len(final_data), 2)\n",
        "\n",
        "  #Converting to DataFrame\n",
        "  cols = data.columns\n",
        "  final_data = pd.DataFrame(final_data, columns = cols)\n",
        "\n",
        "  return final_data.set_index('Date', drop = True)\n",
        "\n",
        "def preprocessData(dataCleaned):\n",
        "  data_matrix = []\n",
        "  col = 10\n",
        "\n",
        "  # Normalizing data\n",
        "  scaler = MinMaxScaler()\n",
        "  dataCleaned['Close'] = dataCleaned['Close'].astype(float)\n",
        "  dataCleaned['Close'] = scaler.fit_transform(np.array(dataCleaned['Close']).reshape(-1,1))\n",
        "\n",
        "  for i in range(len(dataCleaned) - col+1):\n",
        "    data_matrix.append(dataCleaned[i:i+col].values)\n",
        "\n",
        "  row = int(len(data_matrix) * 0.7)\n",
        "  dataCleaned = np.asarray(data_matrix)\n",
        "\n",
        "  # # Splitting data\n",
        "  X_train, y_train = dataCleaned[:row, :-1], dataCleaned[:row, -1]\n",
        "  X_test, y_test = dataCleaned[row:, :-1], dataCleaned[row:, -1]\n",
        "\n",
        "  # Reshaping feature variables\n",
        "  # 1. X_train\n",
        "  shape = list(X_train.shape)\n",
        "  totShape = np.prod(shape)\n",
        "  main = int(totShape/9)\n",
        "\n",
        "  X_train = np.array(X_train).reshape(main, 1, 9)\n",
        "\n",
        "  # 2. X_test\n",
        "  shape = list(X_test.shape)\n",
        "  totShape = np.prod(shape)\n",
        "  main = int(totShape/9)\n",
        "\n",
        "  X_test = np.array(X_test).reshape(main, 1, 9)\n",
        "\n",
        "  return scaler, X_train, y_train, X_test, y_test\n",
        "\n",
        "def model_train(X_train, y_train, coin):\n",
        "  model = tf.keras.models.Sequential()\n",
        "  model.add(tf.keras.layers.LSTM(units = 30, input_shape = (None, 9), return_sequences = True))\n",
        "  model.add(tf.keras.layers.Dense(units = 32, activation = 'linear'))\n",
        "  model.add(tf.keras.layers.LSTM(units = 30, return_sequences = False))\n",
        "  model.add(tf.keras.layers.Dense(units = 1, activation = 'linear'))\n",
        "\n",
        "  model.compile(optimizer = 'adam', loss = 'mean_squared_error', metrics = ['mse'])\n",
        "\n",
        "  model.fit(X_train, y_train, batch_size = 5, epochs = 25, validation_split = .02)\n",
        "  \n",
        "  path = f'/content/drive/MyDrive/model/{coin}.h5'\n",
        "  joblib.dump(model, path)\n",
        "  \n",
        "  return f'Model saved successfully at {path}!'\n",
        "\n",
        "def predict_NextDay(scaler, coin):\n",
        "  MODEL_PATH = f'/content/drive/MyDrive/model/{coin}.h5' \n",
        "  model = joblib.load(MODEL_PATH)\n",
        "  coins_dict = {\n",
        "    'dogecoin' : 'DOGE-USD',\n",
        "    'bitcoin' : 'BTC-USD',\n",
        "    'ethereum' : 'ETH-USD',\n",
        "    'iota' : 'MIOTA-USD',\n",
        "    'tron' : 'TRX-USD'\n",
        "  }\n",
        "\n",
        "  ticker = coins_dict[coin]\n",
        "\n",
        "  today = datetime.date.today()\n",
        "  d1 = today.strftime(\"%Y-%m-%d\")\n",
        "  d2 = datetime.date.today() - datetime.timedelta(days = 9)\n",
        "  d2 = d2.strftime(\"%Y-%m-%d\")\n",
        "\n",
        "  new_sample = yf.download(ticker, start = d2, end = d1, progress = False)\n",
        "\n",
        "  last9 = new_sample[['Close']]\n",
        "  vals = last9.values\n",
        "\n",
        "  temp = []\n",
        "\n",
        "  for i in range(len(vals)):\n",
        "    temp.append(vals[0][0])\n",
        "\n",
        "  sample = scaler.fit_transform(np.array(temp).reshape(-1, 1))\n",
        "  sample = np.asarray(sample)\n",
        "\n",
        "  sample = np.reshape(sample, (1, 1, 9))\n",
        "\n",
        "  prediction = model.predict(sample, batch_size = 2)\n",
        "\n",
        "  prediction = scaler.inverse_transform(prediction)\n",
        "  return prediction"
      ]
    },
    {
      "cell_type": "code",
      "execution_count": 135,
      "metadata": {
        "id": "2npci8bLVpxF"
      },
      "outputs": [],
      "source": [
        "coins_dict = {\n",
        "    'dogecoin' : 'DOGE-USD',\n",
        "    'bitcoin' : 'BTC-USD',\n",
        "    'ethereum' : 'ETH-USD',\n",
        "    'iota' : 'MIOTA-USD',\n",
        "    'tron' : 'TRX-USD'\n",
        "}"
      ]
    },
    {
      "cell_type": "code",
      "execution_count": 136,
      "metadata": {
        "colab": {
          "base_uri": "https://localhost:8080/",
          "height": 36
        },
        "id": "9v4EBSy2WqM3",
        "outputId": "32019f09-3490-4dd4-b4ad-aa96b8e81d88"
      },
      "outputs": [
        {
          "data": {
            "application/vnd.google.colaboratory.intrinsic+json": {
              "type": "string"
            },
            "text/plain": [
              "'DOGE-USD'"
            ]
          },
          "execution_count": 136,
          "metadata": {},
          "output_type": "execute_result"
        }
      ],
      "source": [
        "coins_dict['dogecoin']"
      ]
    },
    {
      "cell_type": "code",
      "execution_count": 67,
      "metadata": {
        "id": "22DPEaAv6__a"
      },
      "outputs": [],
      "source": [
        "data = processData('dogecoin')"
      ]
    },
    {
      "cell_type": "code",
      "execution_count": 124,
      "metadata": {
        "id": "LOT8y38_-ALl"
      },
      "outputs": [],
      "source": [
        "scaler, X_train, y_train, X_test, y_test = preprocessData(data)"
      ]
    },
    {
      "cell_type": "code",
      "execution_count": 125,
      "metadata": {
        "colab": {
          "base_uri": "https://localhost:8080/",
          "height": 1000
        },
        "id": "8IDEtD4JDzQn",
        "outputId": "c9d625e5-e651-4fe8-9254-641bb86de92e"
      },
      "outputs": [
        {
          "name": "stdout",
          "output_type": "stream",
          "text": [
            "Epoch 1/25\n",
            "122/122 [==============================] - 5s 12ms/step - loss: 7.6358e-07 - mse: 7.6358e-07 - val_loss: 8.0693e-06 - val_mse: 8.0693e-06\n",
            "Epoch 2/25\n",
            "122/122 [==============================] - 1s 4ms/step - loss: 7.0687e-07 - mse: 7.0687e-07 - val_loss: 4.3973e-06 - val_mse: 4.3973e-06\n",
            "Epoch 3/25\n",
            "122/122 [==============================] - 1s 5ms/step - loss: 6.2077e-07 - mse: 6.2077e-07 - val_loss: 1.1066e-05 - val_mse: 1.1066e-05\n",
            "Epoch 4/25\n",
            "122/122 [==============================] - 1s 4ms/step - loss: 6.4684e-07 - mse: 6.4684e-07 - val_loss: 6.5045e-06 - val_mse: 6.5045e-06\n",
            "Epoch 5/25\n",
            "122/122 [==============================] - 0s 4ms/step - loss: 6.6727e-07 - mse: 6.6727e-07 - val_loss: 5.1338e-06 - val_mse: 5.1338e-06\n",
            "Epoch 6/25\n",
            "122/122 [==============================] - 1s 4ms/step - loss: 5.8311e-07 - mse: 5.8311e-07 - val_loss: 8.2717e-06 - val_mse: 8.2717e-06\n",
            "Epoch 7/25\n",
            "122/122 [==============================] - 1s 4ms/step - loss: 5.4847e-07 - mse: 5.4847e-07 - val_loss: 4.9691e-06 - val_mse: 4.9691e-06\n",
            "Epoch 8/25\n",
            "122/122 [==============================] - 1s 5ms/step - loss: 5.2618e-07 - mse: 5.2618e-07 - val_loss: 4.8474e-06 - val_mse: 4.8474e-06\n",
            "Epoch 9/25\n",
            "122/122 [==============================] - 1s 4ms/step - loss: 5.5423e-07 - mse: 5.5423e-07 - val_loss: 4.5322e-06 - val_mse: 4.5322e-06\n",
            "Epoch 10/25\n",
            "122/122 [==============================] - 1s 4ms/step - loss: 6.7917e-07 - mse: 6.7917e-07 - val_loss: 5.7616e-06 - val_mse: 5.7616e-06\n",
            "Epoch 11/25\n",
            "122/122 [==============================] - 1s 4ms/step - loss: 5.3181e-07 - mse: 5.3181e-07 - val_loss: 8.4556e-06 - val_mse: 8.4556e-06\n",
            "Epoch 12/25\n",
            "122/122 [==============================] - 1s 4ms/step - loss: 5.5794e-07 - mse: 5.5794e-07 - val_loss: 6.2357e-06 - val_mse: 6.2357e-06\n",
            "Epoch 13/25\n",
            "122/122 [==============================] - 1s 4ms/step - loss: 6.0011e-07 - mse: 6.0011e-07 - val_loss: 3.7965e-06 - val_mse: 3.7965e-06\n",
            "Epoch 14/25\n",
            "122/122 [==============================] - 0s 4ms/step - loss: 4.8231e-07 - mse: 4.8231e-07 - val_loss: 5.6131e-06 - val_mse: 5.6131e-06\n",
            "Epoch 15/25\n",
            "122/122 [==============================] - 0s 4ms/step - loss: 5.4519e-07 - mse: 5.4519e-07 - val_loss: 5.8936e-06 - val_mse: 5.8936e-06\n",
            "Epoch 16/25\n",
            "122/122 [==============================] - 1s 4ms/step - loss: 5.1662e-07 - mse: 5.1662e-07 - val_loss: 5.5960e-06 - val_mse: 5.5960e-06\n",
            "Epoch 17/25\n",
            "122/122 [==============================] - 1s 4ms/step - loss: 5.2453e-07 - mse: 5.2453e-07 - val_loss: 5.8702e-06 - val_mse: 5.8702e-06\n",
            "Epoch 18/25\n",
            "122/122 [==============================] - 0s 4ms/step - loss: 5.5521e-07 - mse: 5.5521e-07 - val_loss: 7.0927e-06 - val_mse: 7.0927e-06\n",
            "Epoch 19/25\n",
            "122/122 [==============================] - 1s 4ms/step - loss: 5.7179e-07 - mse: 5.7179e-07 - val_loss: 2.8407e-06 - val_mse: 2.8407e-06\n",
            "Epoch 20/25\n",
            "122/122 [==============================] - 0s 4ms/step - loss: 6.2572e-07 - mse: 6.2572e-07 - val_loss: 9.9176e-06 - val_mse: 9.9176e-06\n",
            "Epoch 21/25\n",
            "122/122 [==============================] - 1s 4ms/step - loss: 5.8819e-07 - mse: 5.8819e-07 - val_loss: 8.7814e-06 - val_mse: 8.7814e-06\n",
            "Epoch 22/25\n",
            "122/122 [==============================] - 0s 4ms/step - loss: 5.1529e-07 - mse: 5.1529e-07 - val_loss: 8.5935e-06 - val_mse: 8.5935e-06\n",
            "Epoch 23/25\n",
            "122/122 [==============================] - 0s 4ms/step - loss: 5.1960e-07 - mse: 5.1960e-07 - val_loss: 5.6293e-06 - val_mse: 5.6293e-06\n",
            "Epoch 24/25\n",
            "122/122 [==============================] - 0s 4ms/step - loss: 5.4012e-07 - mse: 5.4012e-07 - val_loss: 5.2026e-06 - val_mse: 5.2026e-06\n",
            "Epoch 25/25\n",
            "122/122 [==============================] - 1s 4ms/step - loss: 5.1407e-07 - mse: 5.1407e-07 - val_loss: 4.4764e-06 - val_mse: 4.4764e-06\n"
          ]
        },
        {
          "name": "stderr",
          "output_type": "stream",
          "text": [
            "WARNING:absl:Found untraced functions such as lstm_cell_16_layer_call_fn, lstm_cell_16_layer_call_and_return_conditional_losses, lstm_cell_17_layer_call_fn, lstm_cell_17_layer_call_and_return_conditional_losses while saving (showing 4 of 4). These functions will not be directly callable after loading.\n",
            "WARNING:absl:<keras.layers.recurrent.LSTMCell object at 0x7f47d0a78450> has the same name 'LSTMCell' as a built-in Keras object. Consider renaming <class 'keras.layers.recurrent.LSTMCell'> to avoid naming conflicts when loading with `tf.keras.models.load_model`. If renaming is not possible, pass the object in the `custom_objects` parameter of the load function.\n",
            "WARNING:absl:<keras.layers.recurrent.LSTMCell object at 0x7f47d0b6f550> has the same name 'LSTMCell' as a built-in Keras object. Consider renaming <class 'keras.layers.recurrent.LSTMCell'> to avoid naming conflicts when loading with `tf.keras.models.load_model`. If renaming is not possible, pass the object in the `custom_objects` parameter of the load function.\n"
          ]
        },
        {
          "data": {
            "application/vnd.google.colaboratory.intrinsic+json": {
              "type": "string"
            },
            "text/plain": [
              "'Model saved successfully at /content/drive/MyDrive/model/dogecoin.h5!'"
            ]
          },
          "execution_count": 125,
          "metadata": {},
          "output_type": "execute_result"
        }
      ],
      "source": [
        "model_train(X_train, y_train, 'dogecoin')"
      ]
    },
    {
      "cell_type": "code",
      "execution_count": 138,
      "metadata": {
        "colab": {
          "base_uri": "https://localhost:8080/"
        },
        "id": "68I94AWrUKui",
        "outputId": "14997437-3bc2-4dc3-9225-159c37a27391"
      },
      "outputs": [
        {
          "data": {
            "text/plain": [
              "array([[0.08343949]], dtype=float32)"
            ]
          },
          "execution_count": 138,
          "metadata": {},
          "output_type": "execute_result"
        }
      ],
      "source": [
        "predict_NextDay(scaler, 'dogecoin')"
      ]
    },
    {
      "cell_type": "code",
      "execution_count": 139,
      "metadata": {
        "colab": {
          "base_uri": "https://localhost:8080/"
        },
        "id": "cD2h-iFleUy7",
        "outputId": "c69d20e3-8462-40b1-d2d3-196de390dc44"
      },
      "outputs": [
        {
          "name": "stdout",
          "output_type": "stream",
          "text": [
            "Epoch 1/25\n",
            "186/186 [==============================] - 7s 9ms/step - loss: 6.1435e-04 - mse: 6.1435e-04 - val_loss: 2.3385e-04 - val_mse: 2.3385e-04\n",
            "Epoch 2/25\n",
            "186/186 [==============================] - 1s 5ms/step - loss: 1.0391e-04 - mse: 1.0391e-04 - val_loss: 1.5189e-04 - val_mse: 1.5189e-04\n",
            "Epoch 3/25\n",
            "186/186 [==============================] - 1s 5ms/step - loss: 8.5002e-05 - mse: 8.5002e-05 - val_loss: 1.2338e-04 - val_mse: 1.2338e-04\n",
            "Epoch 4/25\n",
            "186/186 [==============================] - 1s 4ms/step - loss: 6.2886e-05 - mse: 6.2886e-05 - val_loss: 7.3393e-05 - val_mse: 7.3393e-05\n",
            "Epoch 5/25\n",
            "186/186 [==============================] - 1s 4ms/step - loss: 6.1879e-05 - mse: 6.1879e-05 - val_loss: 6.4268e-05 - val_mse: 6.4268e-05\n",
            "Epoch 6/25\n",
            "186/186 [==============================] - 1s 4ms/step - loss: 5.4608e-05 - mse: 5.4608e-05 - val_loss: 6.1427e-05 - val_mse: 6.1427e-05\n",
            "Epoch 7/25\n",
            "186/186 [==============================] - 1s 4ms/step - loss: 5.2810e-05 - mse: 5.2810e-05 - val_loss: 4.0549e-05 - val_mse: 4.0549e-05\n",
            "Epoch 8/25\n",
            "186/186 [==============================] - 1s 5ms/step - loss: 5.6196e-05 - mse: 5.6196e-05 - val_loss: 3.7612e-05 - val_mse: 3.7612e-05\n",
            "Epoch 9/25\n",
            "186/186 [==============================] - 1s 4ms/step - loss: 4.9858e-05 - mse: 4.9858e-05 - val_loss: 8.6774e-05 - val_mse: 8.6774e-05\n",
            "Epoch 10/25\n",
            "186/186 [==============================] - 1s 5ms/step - loss: 4.6100e-05 - mse: 4.6100e-05 - val_loss: 5.8299e-05 - val_mse: 5.8299e-05\n",
            "Epoch 11/25\n",
            "186/186 [==============================] - 1s 4ms/step - loss: 4.7713e-05 - mse: 4.7713e-05 - val_loss: 5.0308e-05 - val_mse: 5.0308e-05\n",
            "Epoch 12/25\n",
            "186/186 [==============================] - 1s 4ms/step - loss: 4.5436e-05 - mse: 4.5436e-05 - val_loss: 6.4577e-05 - val_mse: 6.4577e-05\n",
            "Epoch 13/25\n",
            "186/186 [==============================] - 1s 4ms/step - loss: 4.9883e-05 - mse: 4.9883e-05 - val_loss: 7.7714e-05 - val_mse: 7.7713e-05\n",
            "Epoch 14/25\n",
            "186/186 [==============================] - 1s 4ms/step - loss: 4.3751e-05 - mse: 4.3751e-05 - val_loss: 1.6318e-04 - val_mse: 1.6318e-04\n",
            "Epoch 15/25\n",
            "186/186 [==============================] - 1s 4ms/step - loss: 5.0254e-05 - mse: 5.0254e-05 - val_loss: 4.0957e-05 - val_mse: 4.0957e-05\n",
            "Epoch 16/25\n",
            "186/186 [==============================] - 1s 4ms/step - loss: 4.3414e-05 - mse: 4.3414e-05 - val_loss: 1.4013e-04 - val_mse: 1.4013e-04\n",
            "Epoch 17/25\n",
            "186/186 [==============================] - 1s 5ms/step - loss: 5.2526e-05 - mse: 5.2526e-05 - val_loss: 1.0622e-04 - val_mse: 1.0622e-04\n",
            "Epoch 18/25\n",
            "186/186 [==============================] - 1s 5ms/step - loss: 4.3554e-05 - mse: 4.3554e-05 - val_loss: 3.5709e-05 - val_mse: 3.5709e-05\n",
            "Epoch 19/25\n",
            "186/186 [==============================] - 1s 4ms/step - loss: 4.3374e-05 - mse: 4.3374e-05 - val_loss: 4.3082e-05 - val_mse: 4.3082e-05\n",
            "Epoch 20/25\n",
            "186/186 [==============================] - 1s 4ms/step - loss: 4.3447e-05 - mse: 4.3447e-05 - val_loss: 3.6397e-05 - val_mse: 3.6397e-05\n",
            "Epoch 21/25\n",
            "186/186 [==============================] - 1s 5ms/step - loss: 5.1034e-05 - mse: 5.1034e-05 - val_loss: 3.6206e-05 - val_mse: 3.6206e-05\n",
            "Epoch 22/25\n",
            "186/186 [==============================] - 1s 5ms/step - loss: 4.0511e-05 - mse: 4.0511e-05 - val_loss: 3.5592e-05 - val_mse: 3.5592e-05\n",
            "Epoch 23/25\n",
            "186/186 [==============================] - 1s 5ms/step - loss: 4.8617e-05 - mse: 4.8617e-05 - val_loss: 5.9661e-05 - val_mse: 5.9661e-05\n",
            "Epoch 24/25\n",
            "186/186 [==============================] - 1s 4ms/step - loss: 4.3104e-05 - mse: 4.3104e-05 - val_loss: 7.1274e-05 - val_mse: 7.1274e-05\n",
            "Epoch 25/25\n",
            "186/186 [==============================] - 1s 5ms/step - loss: 5.1403e-05 - mse: 5.1403e-05 - val_loss: 7.2644e-05 - val_mse: 7.2644e-05\n"
          ]
        },
        {
          "name": "stderr",
          "output_type": "stream",
          "text": [
            "WARNING:absl:Found untraced functions such as lstm_cell_22_layer_call_fn, lstm_cell_22_layer_call_and_return_conditional_losses, lstm_cell_23_layer_call_fn, lstm_cell_23_layer_call_and_return_conditional_losses while saving (showing 4 of 4). These functions will not be directly callable after loading.\n",
            "WARNING:absl:<keras.layers.recurrent.LSTMCell object at 0x7f47d9775850> has the same name 'LSTMCell' as a built-in Keras object. Consider renaming <class 'keras.layers.recurrent.LSTMCell'> to avoid naming conflicts when loading with `tf.keras.models.load_model`. If renaming is not possible, pass the object in the `custom_objects` parameter of the load function.\n",
            "WARNING:absl:<keras.layers.recurrent.LSTMCell object at 0x7f47bd216e50> has the same name 'LSTMCell' as a built-in Keras object. Consider renaming <class 'keras.layers.recurrent.LSTMCell'> to avoid naming conflicts when loading with `tf.keras.models.load_model`. If renaming is not possible, pass the object in the `custom_objects` parameter of the load function.\n"
          ]
        },
        {
          "data": {
            "text/plain": [
              "array([[24319.334]], dtype=float32)"
            ]
          },
          "execution_count": 139,
          "metadata": {},
          "output_type": "execute_result"
        }
      ],
      "source": [
        "#Bitcoin\n",
        "coin = 'bitcoin'\n",
        "data = processData(coin)\n",
        "scaler, X_train, y_train, X_test, y_test = preprocessData(data)\n",
        "model_train(X_train, y_train, coin)\n",
        "predict_NextDay(scaler, coin)"
      ]
    },
    {
      "cell_type": "code",
      "execution_count": 140,
      "metadata": {
        "colab": {
          "base_uri": "https://localhost:8080/"
        },
        "id": "Jw_7HVDZe2Oa",
        "outputId": "331ea198-e5a4-4742-bc51-09bec236ddac"
      },
      "outputs": [
        {
          "name": "stdout",
          "output_type": "stream",
          "text": [
            "Epoch 1/25\n",
            "186/186 [==============================] - 6s 9ms/step - loss: 8.9572e-04 - mse: 8.9572e-04 - val_loss: 1.1846e-04 - val_mse: 1.1846e-04\n",
            "Epoch 2/25\n",
            "186/186 [==============================] - 1s 4ms/step - loss: 1.3700e-04 - mse: 1.3700e-04 - val_loss: 1.8427e-04 - val_mse: 1.8427e-04\n",
            "Epoch 3/25\n",
            "186/186 [==============================] - 1s 4ms/step - loss: 1.0556e-04 - mse: 1.0556e-04 - val_loss: 7.0098e-05 - val_mse: 7.0098e-05\n",
            "Epoch 4/25\n",
            "186/186 [==============================] - 1s 4ms/step - loss: 9.8621e-05 - mse: 9.8621e-05 - val_loss: 4.6291e-05 - val_mse: 4.6291e-05\n",
            "Epoch 5/25\n",
            "186/186 [==============================] - 1s 4ms/step - loss: 1.2713e-04 - mse: 1.2713e-04 - val_loss: 1.0763e-04 - val_mse: 1.0763e-04\n",
            "Epoch 6/25\n",
            "186/186 [==============================] - 1s 4ms/step - loss: 7.9570e-05 - mse: 7.9570e-05 - val_loss: 8.4264e-05 - val_mse: 8.4264e-05\n",
            "Epoch 7/25\n",
            "186/186 [==============================] - 1s 5ms/step - loss: 8.1514e-05 - mse: 8.1514e-05 - val_loss: 1.2518e-04 - val_mse: 1.2518e-04\n",
            "Epoch 8/25\n",
            "186/186 [==============================] - 1s 4ms/step - loss: 7.2486e-05 - mse: 7.2486e-05 - val_loss: 7.7980e-05 - val_mse: 7.7980e-05\n",
            "Epoch 9/25\n",
            "186/186 [==============================] - 1s 4ms/step - loss: 6.5992e-05 - mse: 6.5992e-05 - val_loss: 1.6729e-05 - val_mse: 1.6729e-05\n",
            "Epoch 10/25\n",
            "186/186 [==============================] - 1s 4ms/step - loss: 6.6815e-05 - mse: 6.6815e-05 - val_loss: 1.2848e-05 - val_mse: 1.2848e-05\n",
            "Epoch 11/25\n",
            "186/186 [==============================] - 1s 4ms/step - loss: 7.4039e-05 - mse: 7.4039e-05 - val_loss: 1.5608e-05 - val_mse: 1.5608e-05\n",
            "Epoch 12/25\n",
            "186/186 [==============================] - 1s 4ms/step - loss: 6.1161e-05 - mse: 6.1161e-05 - val_loss: 5.9750e-05 - val_mse: 5.9750e-05\n",
            "Epoch 13/25\n",
            "186/186 [==============================] - 1s 4ms/step - loss: 8.7302e-05 - mse: 8.7302e-05 - val_loss: 1.5018e-05 - val_mse: 1.5018e-05\n",
            "Epoch 14/25\n",
            "186/186 [==============================] - 1s 4ms/step - loss: 5.7707e-05 - mse: 5.7707e-05 - val_loss: 5.7332e-05 - val_mse: 5.7332e-05\n",
            "Epoch 15/25\n",
            "186/186 [==============================] - 1s 4ms/step - loss: 6.2904e-05 - mse: 6.2904e-05 - val_loss: 1.8983e-05 - val_mse: 1.8983e-05\n",
            "Epoch 16/25\n",
            "186/186 [==============================] - 1s 4ms/step - loss: 7.2437e-05 - mse: 7.2437e-05 - val_loss: 4.9077e-05 - val_mse: 4.9077e-05\n",
            "Epoch 17/25\n",
            "186/186 [==============================] - 1s 4ms/step - loss: 5.6924e-05 - mse: 5.6924e-05 - val_loss: 4.2525e-05 - val_mse: 4.2525e-05\n",
            "Epoch 18/25\n",
            "186/186 [==============================] - 1s 4ms/step - loss: 6.1481e-05 - mse: 6.1481e-05 - val_loss: 1.4814e-05 - val_mse: 1.4814e-05\n",
            "Epoch 19/25\n",
            "186/186 [==============================] - 1s 4ms/step - loss: 5.8892e-05 - mse: 5.8892e-05 - val_loss: 2.4363e-05 - val_mse: 2.4363e-05\n",
            "Epoch 20/25\n",
            "186/186 [==============================] - 1s 4ms/step - loss: 5.0451e-05 - mse: 5.0451e-05 - val_loss: 1.5919e-05 - val_mse: 1.5919e-05\n",
            "Epoch 21/25\n",
            "186/186 [==============================] - 1s 4ms/step - loss: 5.1356e-05 - mse: 5.1356e-05 - val_loss: 2.2621e-05 - val_mse: 2.2621e-05\n",
            "Epoch 22/25\n",
            "186/186 [==============================] - 1s 4ms/step - loss: 5.1644e-05 - mse: 5.1644e-05 - val_loss: 2.9448e-05 - val_mse: 2.9448e-05\n",
            "Epoch 23/25\n",
            "186/186 [==============================] - 1s 4ms/step - loss: 4.8989e-05 - mse: 4.8989e-05 - val_loss: 1.1573e-05 - val_mse: 1.1573e-05\n",
            "Epoch 24/25\n",
            "186/186 [==============================] - 1s 4ms/step - loss: 5.1924e-05 - mse: 5.1924e-05 - val_loss: 3.1825e-05 - val_mse: 3.1825e-05\n",
            "Epoch 25/25\n",
            "186/186 [==============================] - 1s 4ms/step - loss: 5.4784e-05 - mse: 5.4784e-05 - val_loss: 1.4183e-05 - val_mse: 1.4183e-05\n"
          ]
        },
        {
          "name": "stderr",
          "output_type": "stream",
          "text": [
            "WARNING:absl:Found untraced functions such as lstm_cell_26_layer_call_fn, lstm_cell_26_layer_call_and_return_conditional_losses, lstm_cell_27_layer_call_fn, lstm_cell_27_layer_call_and_return_conditional_losses while saving (showing 4 of 4). These functions will not be directly callable after loading.\n",
            "WARNING:absl:<keras.layers.recurrent.LSTMCell object at 0x7f47e54c6690> has the same name 'LSTMCell' as a built-in Keras object. Consider renaming <class 'keras.layers.recurrent.LSTMCell'> to avoid naming conflicts when loading with `tf.keras.models.load_model`. If renaming is not possible, pass the object in the `custom_objects` parameter of the load function.\n",
            "WARNING:absl:<keras.layers.recurrent.LSTMCell object at 0x7f47d8316e10> has the same name 'LSTMCell' as a built-in Keras object. Consider renaming <class 'keras.layers.recurrent.LSTMCell'> to avoid naming conflicts when loading with `tf.keras.models.load_model`. If renaming is not possible, pass the object in the `custom_objects` parameter of the load function.\n"
          ]
        },
        {
          "data": {
            "text/plain": [
              "array([[1936.8062]], dtype=float32)"
            ]
          },
          "execution_count": 140,
          "metadata": {},
          "output_type": "execute_result"
        }
      ],
      "source": [
        "#Ethereum\n",
        "coin = 'ethereum'\n",
        "data = processData(coin)\n",
        "scaler, X_train, y_train, X_test, y_test = preprocessData(data)\n",
        "model_train(X_train, y_train, coin)\n",
        "predict_NextDay(scaler, coin)"
      ]
    },
    {
      "cell_type": "code",
      "execution_count": 141,
      "metadata": {
        "colab": {
          "base_uri": "https://localhost:8080/"
        },
        "id": "l8rrXva8gNTY",
        "outputId": "6ab9fa50-1bc9-4ac3-9b26-3882ff84ec32"
      },
      "outputs": [
        {
          "name": "stdout",
          "output_type": "stream",
          "text": [
            "Epoch 1/25\n",
            "168/168 [==============================] - 6s 10ms/step - loss: 0.0047 - mse: 0.0047 - val_loss: 3.6387e-04 - val_mse: 3.6387e-04\n",
            "Epoch 2/25\n",
            "168/168 [==============================] - 1s 4ms/step - loss: 7.5543e-04 - mse: 7.5543e-04 - val_loss: 1.3766e-04 - val_mse: 1.3766e-04\n",
            "Epoch 3/25\n",
            "168/168 [==============================] - 1s 4ms/step - loss: 5.7679e-04 - mse: 5.7679e-04 - val_loss: 1.0845e-04 - val_mse: 1.0845e-04\n",
            "Epoch 4/25\n",
            "168/168 [==============================] - 1s 4ms/step - loss: 5.9121e-04 - mse: 5.9121e-04 - val_loss: 3.8544e-04 - val_mse: 3.8544e-04\n",
            "Epoch 5/25\n",
            "168/168 [==============================] - 1s 4ms/step - loss: 5.8745e-04 - mse: 5.8745e-04 - val_loss: 9.1939e-05 - val_mse: 9.1939e-05\n",
            "Epoch 6/25\n",
            "168/168 [==============================] - 1s 4ms/step - loss: 4.9196e-04 - mse: 4.9196e-04 - val_loss: 9.0768e-05 - val_mse: 9.0768e-05\n",
            "Epoch 7/25\n",
            "168/168 [==============================] - 1s 4ms/step - loss: 4.3013e-04 - mse: 4.3013e-04 - val_loss: 8.7785e-04 - val_mse: 8.7785e-04\n",
            "Epoch 8/25\n",
            "168/168 [==============================] - 1s 5ms/step - loss: 5.7474e-04 - mse: 5.7474e-04 - val_loss: 1.6984e-04 - val_mse: 1.6984e-04\n",
            "Epoch 9/25\n",
            "168/168 [==============================] - 1s 4ms/step - loss: 3.8043e-04 - mse: 3.8043e-04 - val_loss: 9.9250e-05 - val_mse: 9.9250e-05\n",
            "Epoch 10/25\n",
            "168/168 [==============================] - 1s 4ms/step - loss: 3.9177e-04 - mse: 3.9177e-04 - val_loss: 8.4457e-05 - val_mse: 8.4457e-05\n",
            "Epoch 11/25\n",
            "168/168 [==============================] - 1s 5ms/step - loss: 3.1960e-04 - mse: 3.1960e-04 - val_loss: 3.0367e-04 - val_mse: 3.0367e-04\n",
            "Epoch 12/25\n",
            "168/168 [==============================] - 1s 4ms/step - loss: 3.4426e-04 - mse: 3.4426e-04 - val_loss: 7.9966e-05 - val_mse: 7.9966e-05\n",
            "Epoch 13/25\n",
            "168/168 [==============================] - 1s 4ms/step - loss: 3.2712e-04 - mse: 3.2712e-04 - val_loss: 1.2233e-04 - val_mse: 1.2233e-04\n",
            "Epoch 14/25\n",
            "168/168 [==============================] - 1s 4ms/step - loss: 3.0561e-04 - mse: 3.0561e-04 - val_loss: 1.3341e-04 - val_mse: 1.3341e-04\n",
            "Epoch 15/25\n",
            "168/168 [==============================] - 1s 4ms/step - loss: 2.8172e-04 - mse: 2.8172e-04 - val_loss: 1.0930e-04 - val_mse: 1.0930e-04\n",
            "Epoch 16/25\n",
            "168/168 [==============================] - 1s 4ms/step - loss: 2.8415e-04 - mse: 2.8415e-04 - val_loss: 1.0591e-04 - val_mse: 1.0591e-04\n",
            "Epoch 17/25\n",
            "168/168 [==============================] - 1s 5ms/step - loss: 2.7252e-04 - mse: 2.7252e-04 - val_loss: 2.6073e-04 - val_mse: 2.6073e-04\n",
            "Epoch 18/25\n",
            "168/168 [==============================] - 1s 7ms/step - loss: 2.7350e-04 - mse: 2.7350e-04 - val_loss: 6.5673e-05 - val_mse: 6.5673e-05\n",
            "Epoch 19/25\n",
            "168/168 [==============================] - 1s 6ms/step - loss: 2.7004e-04 - mse: 2.7004e-04 - val_loss: 7.1728e-05 - val_mse: 7.1728e-05\n",
            "Epoch 20/25\n",
            "168/168 [==============================] - 1s 8ms/step - loss: 2.6663e-04 - mse: 2.6663e-04 - val_loss: 1.4455e-04 - val_mse: 1.4455e-04\n",
            "Epoch 21/25\n",
            "168/168 [==============================] - 1s 7ms/step - loss: 3.3222e-04 - mse: 3.3222e-04 - val_loss: 8.2019e-05 - val_mse: 8.2019e-05\n",
            "Epoch 22/25\n",
            "168/168 [==============================] - 1s 6ms/step - loss: 2.1585e-04 - mse: 2.1585e-04 - val_loss: 1.3168e-04 - val_mse: 1.3168e-04\n",
            "Epoch 23/25\n",
            "168/168 [==============================] - 1s 4ms/step - loss: 2.6514e-04 - mse: 2.6514e-04 - val_loss: 2.1990e-04 - val_mse: 2.1990e-04\n",
            "Epoch 24/25\n",
            "168/168 [==============================] - 1s 5ms/step - loss: 2.5337e-04 - mse: 2.5337e-04 - val_loss: 8.4206e-05 - val_mse: 8.4206e-05\n",
            "Epoch 25/25\n",
            "168/168 [==============================] - 1s 5ms/step - loss: 3.5722e-04 - mse: 3.5722e-04 - val_loss: 5.4238e-05 - val_mse: 5.4238e-05\n"
          ]
        },
        {
          "name": "stderr",
          "output_type": "stream",
          "text": [
            "WARNING:absl:Found untraced functions such as lstm_cell_30_layer_call_fn, lstm_cell_30_layer_call_and_return_conditional_losses, lstm_cell_31_layer_call_fn, lstm_cell_31_layer_call_and_return_conditional_losses while saving (showing 4 of 4). These functions will not be directly callable after loading.\n",
            "WARNING:absl:<keras.layers.recurrent.LSTMCell object at 0x7f47cdb545d0> has the same name 'LSTMCell' as a built-in Keras object. Consider renaming <class 'keras.layers.recurrent.LSTMCell'> to avoid naming conflicts when loading with `tf.keras.models.load_model`. If renaming is not possible, pass the object in the `custom_objects` parameter of the load function.\n",
            "WARNING:absl:<keras.layers.recurrent.LSTMCell object at 0x7f47c70c15d0> has the same name 'LSTMCell' as a built-in Keras object. Consider renaming <class 'keras.layers.recurrent.LSTMCell'> to avoid naming conflicts when loading with `tf.keras.models.load_model`. If renaming is not possible, pass the object in the `custom_objects` parameter of the load function.\n",
            "WARNING:tensorflow:5 out of the last 13 calls to <function Model.make_predict_function.<locals>.predict_function at 0x7f47cf74fc20> triggered tf.function retracing. Tracing is expensive and the excessive number of tracings could be due to (1) creating @tf.function repeatedly in a loop, (2) passing tensors with different shapes, (3) passing Python objects instead of tensors. For (1), please define your @tf.function outside of the loop. For (2), @tf.function has experimental_relax_shapes=True option that relaxes argument shapes that can avoid unnecessary retracing. For (3), please refer to https://www.tensorflow.org/guide/function#controlling_retracing and https://www.tensorflow.org/api_docs/python/tf/function for  more details.\n"
          ]
        },
        {
          "data": {
            "text/plain": [
              "array([[0.36208424]], dtype=float32)"
            ]
          },
          "execution_count": 141,
          "metadata": {},
          "output_type": "execute_result"
        }
      ],
      "source": [
        "#IOTA\n",
        "coin = 'iota'\n",
        "data = processData(coin)\n",
        "scaler, X_train, y_train, X_test, y_test = preprocessData(data)\n",
        "model_train(X_train, y_train, coin)\n",
        "predict_NextDay(scaler, coin)"
      ]
    },
    {
      "cell_type": "code",
      "execution_count": 142,
      "metadata": {
        "colab": {
          "base_uri": "https://localhost:8080/"
        },
        "id": "mebGKMN6gVLW",
        "outputId": "7e65e83d-6986-4a2a-8d40-4acd494be45c"
      },
      "outputs": [
        {
          "name": "stdout",
          "output_type": "stream",
          "text": [
            "Epoch 1/25\n",
            "181/181 [==============================] - 7s 9ms/step - loss: 0.0042 - mse: 0.0042 - val_loss: 5.1660e-04 - val_mse: 5.1660e-04\n",
            "Epoch 2/25\n",
            "181/181 [==============================] - 1s 4ms/step - loss: 5.4623e-04 - mse: 5.4623e-04 - val_loss: 2.9341e-04 - val_mse: 2.9341e-04\n",
            "Epoch 3/25\n",
            "181/181 [==============================] - 1s 4ms/step - loss: 4.3270e-04 - mse: 4.3270e-04 - val_loss: 2.0217e-04 - val_mse: 2.0217e-04\n",
            "Epoch 4/25\n",
            "181/181 [==============================] - 1s 4ms/step - loss: 3.4397e-04 - mse: 3.4397e-04 - val_loss: 4.0900e-04 - val_mse: 4.0900e-04\n",
            "Epoch 5/25\n",
            "181/181 [==============================] - 1s 5ms/step - loss: 2.8291e-04 - mse: 2.8291e-04 - val_loss: 3.5901e-04 - val_mse: 3.5901e-04\n",
            "Epoch 6/25\n",
            "181/181 [==============================] - 1s 5ms/step - loss: 2.6597e-04 - mse: 2.6597e-04 - val_loss: 2.0836e-04 - val_mse: 2.0836e-04\n",
            "Epoch 7/25\n",
            "181/181 [==============================] - 1s 5ms/step - loss: 2.5166e-04 - mse: 2.5166e-04 - val_loss: 2.1203e-04 - val_mse: 2.1203e-04\n",
            "Epoch 8/25\n",
            "181/181 [==============================] - 1s 4ms/step - loss: 2.4578e-04 - mse: 2.4578e-04 - val_loss: 2.3772e-04 - val_mse: 2.3772e-04\n",
            "Epoch 9/25\n",
            "181/181 [==============================] - 1s 5ms/step - loss: 2.2271e-04 - mse: 2.2271e-04 - val_loss: 1.7756e-04 - val_mse: 1.7756e-04\n",
            "Epoch 10/25\n",
            "181/181 [==============================] - 1s 5ms/step - loss: 2.2923e-04 - mse: 2.2923e-04 - val_loss: 2.0798e-04 - val_mse: 2.0798e-04\n",
            "Epoch 11/25\n",
            "181/181 [==============================] - 1s 4ms/step - loss: 2.4308e-04 - mse: 2.4308e-04 - val_loss: 1.6025e-04 - val_mse: 1.6025e-04\n",
            "Epoch 12/25\n",
            "181/181 [==============================] - 1s 4ms/step - loss: 2.3104e-04 - mse: 2.3104e-04 - val_loss: 1.8500e-04 - val_mse: 1.8500e-04\n",
            "Epoch 13/25\n",
            "181/181 [==============================] - 1s 4ms/step - loss: 2.2372e-04 - mse: 2.2372e-04 - val_loss: 1.9736e-04 - val_mse: 1.9736e-04\n",
            "Epoch 14/25\n",
            "181/181 [==============================] - 1s 4ms/step - loss: 2.0925e-04 - mse: 2.0925e-04 - val_loss: 1.9364e-04 - val_mse: 1.9364e-04\n",
            "Epoch 15/25\n",
            "181/181 [==============================] - 1s 4ms/step - loss: 2.3338e-04 - mse: 2.3338e-04 - val_loss: 1.9034e-04 - val_mse: 1.9034e-04\n",
            "Epoch 16/25\n",
            "181/181 [==============================] - 1s 5ms/step - loss: 2.3201e-04 - mse: 2.3201e-04 - val_loss: 2.9398e-04 - val_mse: 2.9398e-04\n",
            "Epoch 17/25\n",
            "181/181 [==============================] - 1s 5ms/step - loss: 2.2961e-04 - mse: 2.2961e-04 - val_loss: 1.8078e-04 - val_mse: 1.8078e-04\n",
            "Epoch 18/25\n",
            "181/181 [==============================] - 1s 4ms/step - loss: 1.9554e-04 - mse: 1.9554e-04 - val_loss: 1.4622e-04 - val_mse: 1.4622e-04\n",
            "Epoch 19/25\n",
            "181/181 [==============================] - 1s 5ms/step - loss: 1.9750e-04 - mse: 1.9750e-04 - val_loss: 1.6926e-04 - val_mse: 1.6926e-04\n",
            "Epoch 20/25\n",
            "181/181 [==============================] - 1s 5ms/step - loss: 2.3800e-04 - mse: 2.3800e-04 - val_loss: 1.3178e-04 - val_mse: 1.3178e-04\n",
            "Epoch 21/25\n",
            "181/181 [==============================] - 1s 5ms/step - loss: 2.3673e-04 - mse: 2.3673e-04 - val_loss: 1.7787e-04 - val_mse: 1.7787e-04\n",
            "Epoch 22/25\n",
            "181/181 [==============================] - 1s 4ms/step - loss: 2.0322e-04 - mse: 2.0322e-04 - val_loss: 2.0030e-04 - val_mse: 2.0030e-04\n",
            "Epoch 23/25\n",
            "181/181 [==============================] - 1s 4ms/step - loss: 2.3373e-04 - mse: 2.3373e-04 - val_loss: 1.3252e-04 - val_mse: 1.3252e-04\n",
            "Epoch 24/25\n",
            "181/181 [==============================] - 1s 4ms/step - loss: 2.1197e-04 - mse: 2.1197e-04 - val_loss: 1.5498e-04 - val_mse: 1.5498e-04\n",
            "Epoch 25/25\n",
            "181/181 [==============================] - 1s 4ms/step - loss: 2.0285e-04 - mse: 2.0285e-04 - val_loss: 2.6857e-04 - val_mse: 2.6857e-04\n"
          ]
        },
        {
          "name": "stderr",
          "output_type": "stream",
          "text": [
            "WARNING:absl:Found untraced functions such as lstm_cell_34_layer_call_fn, lstm_cell_34_layer_call_and_return_conditional_losses, lstm_cell_35_layer_call_fn, lstm_cell_35_layer_call_and_return_conditional_losses while saving (showing 4 of 4). These functions will not be directly callable after loading.\n",
            "WARNING:absl:<keras.layers.recurrent.LSTMCell object at 0x7f47beacc250> has the same name 'LSTMCell' as a built-in Keras object. Consider renaming <class 'keras.layers.recurrent.LSTMCell'> to avoid naming conflicts when loading with `tf.keras.models.load_model`. If renaming is not possible, pass the object in the `custom_objects` parameter of the load function.\n",
            "WARNING:absl:<keras.layers.recurrent.LSTMCell object at 0x7f47bf658110> has the same name 'LSTMCell' as a built-in Keras object. Consider renaming <class 'keras.layers.recurrent.LSTMCell'> to avoid naming conflicts when loading with `tf.keras.models.load_model`. If renaming is not possible, pass the object in the `custom_objects` parameter of the load function.\n",
            "WARNING:tensorflow:6 out of the last 14 calls to <function Model.make_predict_function.<locals>.predict_function at 0x7f47d9a7bef0> triggered tf.function retracing. Tracing is expensive and the excessive number of tracings could be due to (1) creating @tf.function repeatedly in a loop, (2) passing tensors with different shapes, (3) passing Python objects instead of tensors. For (1), please define your @tf.function outside of the loop. For (2), @tf.function has experimental_relax_shapes=True option that relaxes argument shapes that can avoid unnecessary retracing. For (3), please refer to https://www.tensorflow.org/guide/function#controlling_retracing and https://www.tensorflow.org/api_docs/python/tf/function for  more details.\n"
          ]
        },
        {
          "data": {
            "text/plain": [
              "array([[0.06133265]], dtype=float32)"
            ]
          },
          "execution_count": 142,
          "metadata": {},
          "output_type": "execute_result"
        }
      ],
      "source": [
        "#TRON\n",
        "coin = 'tron'\n",
        "data = processData(coin)\n",
        "scaler, X_train, y_train, X_test, y_test = preprocessData(data)\n",
        "model_train(X_train, y_train, coin)\n",
        "predict_NextDay(scaler, coin)"
      ]
    },
    {
      "cell_type": "code",
      "execution_count": null,
      "metadata": {
        "id": "ksnfPAtLgZR-"
      },
      "outputs": [],
      "source": []
    }
  ],
  "metadata": {
    "colab": {
      "collapsed_sections": [],
      "name": "Model-Training",
      "provenance": []
    },
    "kernelspec": {
      "display_name": "Python 3.9.4 64-bit",
      "language": "python",
      "name": "python3"
    },
    "language_info": {
      "name": "python",
      "version": "3.9.4"
    },
    "vscode": {
      "interpreter": {
        "hash": "c081257499a92776a7ff5343ee4d85420a7950a6ae97b0cb2aee7a7ddd41b7f2"
      }
    }
  },
  "nbformat": 4,
  "nbformat_minor": 0
}
