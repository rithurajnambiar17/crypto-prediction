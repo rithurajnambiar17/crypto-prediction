{
  "nbformat": 4,
  "nbformat_minor": 0,
  "metadata": {
    "colab": {
      "name": "Data-Preperation",
      "provenance": []
    },
    "kernelspec": {
      "name": "python3",
      "display_name": "Python 3"
    },
    "language_info": {
      "name": "python"
    }
  },
  "cells": [
    {
      "cell_type": "code",
      "execution_count": 2,
      "metadata": {
        "id": "cgZMRbzdvg3E"
      },
      "outputs": [],
      "source": [
        "import numpy as np\n",
        "import pandas as pd\n",
        "import matplotlib.pyplot as plt"
      ]
    },
    {
      "cell_type": "code",
      "source": [
        "def get_time_series_features(data):\n",
        "    \"\"\"\n",
        "    Creates time series features from datetime index.\n",
        "    \"\"\"\n",
        "    data['time'] = pd.to_datetime(data['timestamp'], unit='s')\n",
        "    data['hour'] = data['time'].dt.hour\n",
        "    data['dayofweek'] = data['time'].dt.dayofweek\n",
        "    data['quarter'] = data['time'].dt.quarter\n",
        "    data['month'] = data['time'].dt.month\n",
        "    data['year'] = data['time'].dt.year\n",
        "    data['dayofyear'] = data['time'].dt.dayofyear\n",
        "    data['dayofmonth'] = data['time'].dt.day\n",
        "    data['weekofyear'] = data['time'].dt.isocalendar().week"
      ],
      "metadata": {
        "id": "TUZ6e-WyvqPB"
      },
      "execution_count": null,
      "outputs": []
    },
    {
      "cell_type": "code",
      "source": [
        "btc = pd.read_csv('/content/drive/MyDrive/data/bitcoin.csv')\n",
        "doge = pd.read_csv('/content/drive/MyDrive/data/dogecoin.csv')\n",
        "eth = pd.read_csv('/content/drive/MyDrive/data/ethereum.csv')\n",
        "iota = pd.read_csv('/content/drive/MyDrive/data/iota.csv')\n",
        "tron = pd.read_csv('/content/drive/MyDrive/data/tron.csv')"
      ],
      "metadata": {
        "id": "p32Dvuf6vqpa"
      },
      "execution_count": null,
      "outputs": []
    },
    {
      "cell_type": "code",
      "source": [
        "get_time_series_features(btc)\n",
        "get_time_series_features(eth)\n",
        "get_time_series_features(iota)\n",
        "get_time_series_features(doge)\n",
        "get_time_series_features(tron)"
      ],
      "metadata": {
        "id": "-O98BUFbwEfy"
      },
      "execution_count": null,
      "outputs": []
    },
    {
      "cell_type": "code",
      "source": [
        "!mkdir '/content/drive/MyDrive/coins'"
      ],
      "metadata": {
        "id": "3veHcmlGwjY3"
      },
      "execution_count": null,
      "outputs": []
    },
    {
      "cell_type": "code",
      "source": [
        "btc.to_csv('/content/drive/MyDrive/coins/btc.csv')\n",
        "eth.to_csv('/content/drive/MyDrive/coins/eth.csv')\n",
        "iota.to_csv('/content/drive/MyDrive/coins/iota.csv')\n",
        "tron.to_csv('/content/drive/MyDrive/coins/tron.csv')\n",
        "doge.to_csv('/content/drive/MyDrive/coins/doge.csv')\n"
      ],
      "metadata": {
        "id": "AFrJFDlrwOsd"
      },
      "execution_count": null,
      "outputs": []
    }
  ]
}